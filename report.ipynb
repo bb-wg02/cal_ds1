{
  "cells": [
    {
      "cell_type": "markdown",
      "metadata": {
        "id": "NAukYpT7ii9-"
      },
      "source": [
        "### Will a Customer Accept the Coupon?\n",
        "\n",
        "**Context**\n",
        "\n",
        "Imagine driving through town and a coupon is delivered to your cell phone for a restaraunt near where you are driving. Would you accept that coupon and take a short detour to the restaraunt? Would you accept the coupon but use it on a sunbsequent trip? Would you ignore the coupon entirely? What if the coupon was for a bar instead of a restaraunt? What about a coffee house? Would you accept a bar coupon with a minor passenger in the car? What about if it was just you and your partner in the car? Would weather impact the rate of acceptance? What about the time of day?\n",
        "\n",
        "Obviously, proximity to the business is a factor on whether the coupon is delivered to the driver or not, but what are the factors that determine whether a driver accepts the coupon once it is delivered to them? How would you determine whether a driver is likely to accept a coupon?\n",
        "\n",
        "**Overview**\n",
        "\n",
        "The goal of this project is to use what you know about visualizations and probability distributions to distinguish between customers who accepted a driving coupon versus those that did not.\n",
        "\n",
        "**Data**\n",
        "\n",
        "This data comes to us from the UCI Machine Learning repository and was collected via a survey on Amazon Mechanical Turk. The survey describes different driving scenarios including the destination, current time, weather, passenger, etc., and then ask the person whether he will accept the coupon if he is the driver. Answers that the user will drive there ‘right away’ or ‘later before the coupon expires’ are labeled as ‘Y = 1’ and answers ‘no, I do not want the coupon’ are labeled as ‘Y = 0’.  There are five different types of coupons -- less expensive restaurants (under \\\\$20), coffee houses, carry out & take away, bar, and more expensive restaurants (\\\\$20 - \\\\$50)."
      ]
    },
    {
      "cell_type": "markdown",
      "metadata": {
        "id": "LRgm8BABii-A"
      },
      "source": [
        "**Deliverables**\n",
        "\n",
        "Your final product should be a brief report that highlights the differences between customers who did and did not accept the coupons.  To explore the data you will utilize your knowledge of plotting, statistical summaries, and visualization using Python. You will publish your findings in a public facing github repository as your first portfolio piece.\n",
        "\n",
        "\n",
        "\n"
      ]
    },
    {
      "cell_type": "markdown",
      "metadata": {
        "id": "0yOD-rU3ii-A"
      },
      "source": [
        "### Data Description\n",
        "Keep in mind that these values mentioned below are average values.\n",
        "\n",
        "The attributes of this data set include:\n",
        "1. User attributes\n",
        "    -  Gender: male, female\n",
        "    -  Age: below 21, 21 to 25, 26 to 30, etc.\n",
        "    -  Marital Status: single, married partner, unmarried partner, or widowed\n",
        "    -  Number of children: 0, 1, or more than 1\n",
        "    -  Education: high school, bachelors degree, associates degree, or graduate degree\n",
        "    -  Occupation: architecture & engineering, business & financial, etc.\n",
        "    -  Annual income: less than \\\\$12500, \\\\$12500 - \\\\$24999, \\\\$25000 - \\\\$37499, etc.\n",
        "    -  Number of times that he/she goes to a bar: 0, less than 1, 1 to 3, 4 to 8 or greater than 8\n",
        "    -  Number of times that he/she buys takeaway food: 0, less than 1, 1 to 3, 4 to 8 or greater\n",
        "    than 8\n",
        "    -  Number of times that he/she goes to a coffee house: 0, less than 1, 1 to 3, 4 to 8 or\n",
        "    greater than 8\n",
        "    -  Number of times that he/she eats at a restaurant with average expense less than \\\\$20 per\n",
        "    person: 0, less than 1, 1 to 3, 4 to 8 or greater than 8\n",
        "    -  Number of times that he/she goes to a bar: 0, less than 1, 1 to 3, 4 to 8 or greater than 8\n",
        "    \n",
        "\n",
        "2. Contextual attributes\n",
        "    - Driving destination: home, work, or no urgent destination\n",
        "    - Location of user, coupon and destination: we provide a map to show the geographical\n",
        "    location of the user, destination, and the venue, and we mark the distance between each\n",
        "    two places with time of driving. The user can see whether the venue is in the same\n",
        "    direction as the destination.\n",
        "    - Weather: sunny, rainy, or snowy\n",
        "    - Temperature: 30F, 55F, or 80F\n",
        "    - Time: 10AM, 2PM, or 6PM\n",
        "    - Passenger: alone, partner, kid(s), or friend(s)\n",
        "\n",
        "\n",
        "3. Coupon attributes\n",
        "    - time before it expires: 2 hours or one day"
      ]
    },
    {
      "cell_type": "code",
      "execution_count": 30,
      "metadata": {
        "id": "-3AuOBitii-A"
      },
      "outputs": [],
      "source": [
        "import matplotlib.pyplot as plt\n",
        "import seaborn as sns\n",
        "import pandas as pd\n",
        "import numpy as np"
      ]
    },
    {
      "cell_type": "markdown",
      "metadata": {
        "id": "7GOCKsHbii-B"
      },
      "source": [
        "### Problems\n",
        "\n",
        "Use the prompts below to get started with your data analysis.  \n",
        "\n",
        "1. Read in the `coupons.csv` file.\n",
        "\n",
        "\n"
      ]
    },
    {
      "cell_type": "code",
      "execution_count": 31,
      "metadata": {
        "id": "dMXMCGSZipQ6"
      },
      "outputs": [],
      "source": [
        "\n",
        "import pandas as pd"
      ]
    },
    {
      "cell_type": "code",
      "execution_count": 32,
      "metadata": {
        "id": "xw16JKfhii-B"
      },
      "outputs": [],
      "source": [
        "# INSTRUCTIONS COMMENT OUT AND IN THE APPROPRIATE DATA SOURCE\n",
        "# if using github data source\n",
        "data = pd.read_csv('https://raw.githubusercontent.com/bb-wg02/cal_ds1/main/data/coupons.csv')\n",
        "\n",
        "# If using colab data source\n",
        "# INSTRUCTIONS ONLY NEED THIS IF USING COLAB GOOGLE DRIVE DATA SOURCE\n",
        "#from google.colab import drive\n",
        "#drive.mount('/content/gdrive/', force_remount=True)\n",
        "# Set path appropriate for your google drive\n",
        "#data = pd.read_csv('/content/gdrive/MyDrive/colab_data/assignment_5_1_starter/data/coupons.csv')\n",
        "\n",
        "# if using github data source\n",
        "# enter appropriate path on your own\n",
        "# data = pd.read_csv('data/coupons.csv')\n",
        "\n"
      ]
    },
    {
      "cell_type": "code",
      "execution_count": 33,
      "metadata": {
        "colab": {
          "base_uri": "https://localhost:8080/",
          "height": 342
        },
        "id": "XT9i7nT5ii-B",
        "outputId": "edd44107-05dc-4109-c086-3e1dfc89fbdc"
      },
      "outputs": [
        {
          "output_type": "execute_result",
          "data": {
            "text/plain": [
              "       destination  passanger weather  temperature  time  \\\n",
              "0  No Urgent Place      Alone   Sunny           55   2PM   \n",
              "1  No Urgent Place  Friend(s)   Sunny           80  10AM   \n",
              "2  No Urgent Place  Friend(s)   Sunny           80  10AM   \n",
              "3  No Urgent Place  Friend(s)   Sunny           80   2PM   \n",
              "4  No Urgent Place  Friend(s)   Sunny           80   2PM   \n",
              "\n",
              "                  coupon expiration  gender age      maritalStatus  ...  \\\n",
              "0        Restaurant(<20)         1d  Female  21  Unmarried partner  ...   \n",
              "1           Coffee House         2h  Female  21  Unmarried partner  ...   \n",
              "2  Carry out & Take away         2h  Female  21  Unmarried partner  ...   \n",
              "3           Coffee House         2h  Female  21  Unmarried partner  ...   \n",
              "4           Coffee House         1d  Female  21  Unmarried partner  ...   \n",
              "\n",
              "   CoffeeHouse CarryAway RestaurantLessThan20 Restaurant20To50  \\\n",
              "0        never       NaN                  4~8              1~3   \n",
              "1        never       NaN                  4~8              1~3   \n",
              "2        never       NaN                  4~8              1~3   \n",
              "3        never       NaN                  4~8              1~3   \n",
              "4        never       NaN                  4~8              1~3   \n",
              "\n",
              "  toCoupon_GEQ5min toCoupon_GEQ15min toCoupon_GEQ25min direction_same  \\\n",
              "0                1                 0                 0              0   \n",
              "1                1                 0                 0              0   \n",
              "2                1                 1                 0              0   \n",
              "3                1                 1                 0              0   \n",
              "4                1                 1                 0              0   \n",
              "\n",
              "  direction_opp  Y  \n",
              "0             1  1  \n",
              "1             1  0  \n",
              "2             1  1  \n",
              "3             1  0  \n",
              "4             1  0  \n",
              "\n",
              "[5 rows x 26 columns]"
            ],
            "text/html": [
              "\n",
              "  <div id=\"df-7bada4e4-af0d-4575-80a9-8f2aa59bb737\" class=\"colab-df-container\">\n",
              "    <div>\n",
              "<style scoped>\n",
              "    .dataframe tbody tr th:only-of-type {\n",
              "        vertical-align: middle;\n",
              "    }\n",
              "\n",
              "    .dataframe tbody tr th {\n",
              "        vertical-align: top;\n",
              "    }\n",
              "\n",
              "    .dataframe thead th {\n",
              "        text-align: right;\n",
              "    }\n",
              "</style>\n",
              "<table border=\"1\" class=\"dataframe\">\n",
              "  <thead>\n",
              "    <tr style=\"text-align: right;\">\n",
              "      <th></th>\n",
              "      <th>destination</th>\n",
              "      <th>passanger</th>\n",
              "      <th>weather</th>\n",
              "      <th>temperature</th>\n",
              "      <th>time</th>\n",
              "      <th>coupon</th>\n",
              "      <th>expiration</th>\n",
              "      <th>gender</th>\n",
              "      <th>age</th>\n",
              "      <th>maritalStatus</th>\n",
              "      <th>...</th>\n",
              "      <th>CoffeeHouse</th>\n",
              "      <th>CarryAway</th>\n",
              "      <th>RestaurantLessThan20</th>\n",
              "      <th>Restaurant20To50</th>\n",
              "      <th>toCoupon_GEQ5min</th>\n",
              "      <th>toCoupon_GEQ15min</th>\n",
              "      <th>toCoupon_GEQ25min</th>\n",
              "      <th>direction_same</th>\n",
              "      <th>direction_opp</th>\n",
              "      <th>Y</th>\n",
              "    </tr>\n",
              "  </thead>\n",
              "  <tbody>\n",
              "    <tr>\n",
              "      <th>0</th>\n",
              "      <td>No Urgent Place</td>\n",
              "      <td>Alone</td>\n",
              "      <td>Sunny</td>\n",
              "      <td>55</td>\n",
              "      <td>2PM</td>\n",
              "      <td>Restaurant(&lt;20)</td>\n",
              "      <td>1d</td>\n",
              "      <td>Female</td>\n",
              "      <td>21</td>\n",
              "      <td>Unmarried partner</td>\n",
              "      <td>...</td>\n",
              "      <td>never</td>\n",
              "      <td>NaN</td>\n",
              "      <td>4~8</td>\n",
              "      <td>1~3</td>\n",
              "      <td>1</td>\n",
              "      <td>0</td>\n",
              "      <td>0</td>\n",
              "      <td>0</td>\n",
              "      <td>1</td>\n",
              "      <td>1</td>\n",
              "    </tr>\n",
              "    <tr>\n",
              "      <th>1</th>\n",
              "      <td>No Urgent Place</td>\n",
              "      <td>Friend(s)</td>\n",
              "      <td>Sunny</td>\n",
              "      <td>80</td>\n",
              "      <td>10AM</td>\n",
              "      <td>Coffee House</td>\n",
              "      <td>2h</td>\n",
              "      <td>Female</td>\n",
              "      <td>21</td>\n",
              "      <td>Unmarried partner</td>\n",
              "      <td>...</td>\n",
              "      <td>never</td>\n",
              "      <td>NaN</td>\n",
              "      <td>4~8</td>\n",
              "      <td>1~3</td>\n",
              "      <td>1</td>\n",
              "      <td>0</td>\n",
              "      <td>0</td>\n",
              "      <td>0</td>\n",
              "      <td>1</td>\n",
              "      <td>0</td>\n",
              "    </tr>\n",
              "    <tr>\n",
              "      <th>2</th>\n",
              "      <td>No Urgent Place</td>\n",
              "      <td>Friend(s)</td>\n",
              "      <td>Sunny</td>\n",
              "      <td>80</td>\n",
              "      <td>10AM</td>\n",
              "      <td>Carry out &amp; Take away</td>\n",
              "      <td>2h</td>\n",
              "      <td>Female</td>\n",
              "      <td>21</td>\n",
              "      <td>Unmarried partner</td>\n",
              "      <td>...</td>\n",
              "      <td>never</td>\n",
              "      <td>NaN</td>\n",
              "      <td>4~8</td>\n",
              "      <td>1~3</td>\n",
              "      <td>1</td>\n",
              "      <td>1</td>\n",
              "      <td>0</td>\n",
              "      <td>0</td>\n",
              "      <td>1</td>\n",
              "      <td>1</td>\n",
              "    </tr>\n",
              "    <tr>\n",
              "      <th>3</th>\n",
              "      <td>No Urgent Place</td>\n",
              "      <td>Friend(s)</td>\n",
              "      <td>Sunny</td>\n",
              "      <td>80</td>\n",
              "      <td>2PM</td>\n",
              "      <td>Coffee House</td>\n",
              "      <td>2h</td>\n",
              "      <td>Female</td>\n",
              "      <td>21</td>\n",
              "      <td>Unmarried partner</td>\n",
              "      <td>...</td>\n",
              "      <td>never</td>\n",
              "      <td>NaN</td>\n",
              "      <td>4~8</td>\n",
              "      <td>1~3</td>\n",
              "      <td>1</td>\n",
              "      <td>1</td>\n",
              "      <td>0</td>\n",
              "      <td>0</td>\n",
              "      <td>1</td>\n",
              "      <td>0</td>\n",
              "    </tr>\n",
              "    <tr>\n",
              "      <th>4</th>\n",
              "      <td>No Urgent Place</td>\n",
              "      <td>Friend(s)</td>\n",
              "      <td>Sunny</td>\n",
              "      <td>80</td>\n",
              "      <td>2PM</td>\n",
              "      <td>Coffee House</td>\n",
              "      <td>1d</td>\n",
              "      <td>Female</td>\n",
              "      <td>21</td>\n",
              "      <td>Unmarried partner</td>\n",
              "      <td>...</td>\n",
              "      <td>never</td>\n",
              "      <td>NaN</td>\n",
              "      <td>4~8</td>\n",
              "      <td>1~3</td>\n",
              "      <td>1</td>\n",
              "      <td>1</td>\n",
              "      <td>0</td>\n",
              "      <td>0</td>\n",
              "      <td>1</td>\n",
              "      <td>0</td>\n",
              "    </tr>\n",
              "  </tbody>\n",
              "</table>\n",
              "<p>5 rows × 26 columns</p>\n",
              "</div>\n",
              "    <div class=\"colab-df-buttons\">\n",
              "\n",
              "  <div class=\"colab-df-container\">\n",
              "    <button class=\"colab-df-convert\" onclick=\"convertToInteractive('df-7bada4e4-af0d-4575-80a9-8f2aa59bb737')\"\n",
              "            title=\"Convert this dataframe to an interactive table.\"\n",
              "            style=\"display:none;\">\n",
              "\n",
              "  <svg xmlns=\"http://www.w3.org/2000/svg\" height=\"24px\" viewBox=\"0 -960 960 960\">\n",
              "    <path d=\"M120-120v-720h720v720H120Zm60-500h600v-160H180v160Zm220 220h160v-160H400v160Zm0 220h160v-160H400v160ZM180-400h160v-160H180v160Zm440 0h160v-160H620v160ZM180-180h160v-160H180v160Zm440 0h160v-160H620v160Z\"/>\n",
              "  </svg>\n",
              "    </button>\n",
              "\n",
              "  <style>\n",
              "    .colab-df-container {\n",
              "      display:flex;\n",
              "      gap: 12px;\n",
              "    }\n",
              "\n",
              "    .colab-df-convert {\n",
              "      background-color: #E8F0FE;\n",
              "      border: none;\n",
              "      border-radius: 50%;\n",
              "      cursor: pointer;\n",
              "      display: none;\n",
              "      fill: #1967D2;\n",
              "      height: 32px;\n",
              "      padding: 0 0 0 0;\n",
              "      width: 32px;\n",
              "    }\n",
              "\n",
              "    .colab-df-convert:hover {\n",
              "      background-color: #E2EBFA;\n",
              "      box-shadow: 0px 1px 2px rgba(60, 64, 67, 0.3), 0px 1px 3px 1px rgba(60, 64, 67, 0.15);\n",
              "      fill: #174EA6;\n",
              "    }\n",
              "\n",
              "    .colab-df-buttons div {\n",
              "      margin-bottom: 4px;\n",
              "    }\n",
              "\n",
              "    [theme=dark] .colab-df-convert {\n",
              "      background-color: #3B4455;\n",
              "      fill: #D2E3FC;\n",
              "    }\n",
              "\n",
              "    [theme=dark] .colab-df-convert:hover {\n",
              "      background-color: #434B5C;\n",
              "      box-shadow: 0px 1px 3px 1px rgba(0, 0, 0, 0.15);\n",
              "      filter: drop-shadow(0px 1px 2px rgba(0, 0, 0, 0.3));\n",
              "      fill: #FFFFFF;\n",
              "    }\n",
              "  </style>\n",
              "\n",
              "    <script>\n",
              "      const buttonEl =\n",
              "        document.querySelector('#df-7bada4e4-af0d-4575-80a9-8f2aa59bb737 button.colab-df-convert');\n",
              "      buttonEl.style.display =\n",
              "        google.colab.kernel.accessAllowed ? 'block' : 'none';\n",
              "\n",
              "      async function convertToInteractive(key) {\n",
              "        const element = document.querySelector('#df-7bada4e4-af0d-4575-80a9-8f2aa59bb737');\n",
              "        const dataTable =\n",
              "          await google.colab.kernel.invokeFunction('convertToInteractive',\n",
              "                                                    [key], {});\n",
              "        if (!dataTable) return;\n",
              "\n",
              "        const docLinkHtml = 'Like what you see? Visit the ' +\n",
              "          '<a target=\"_blank\" href=https://colab.research.google.com/notebooks/data_table.ipynb>data table notebook</a>'\n",
              "          + ' to learn more about interactive tables.';\n",
              "        element.innerHTML = '';\n",
              "        dataTable['output_type'] = 'display_data';\n",
              "        await google.colab.output.renderOutput(dataTable, element);\n",
              "        const docLink = document.createElement('div');\n",
              "        docLink.innerHTML = docLinkHtml;\n",
              "        element.appendChild(docLink);\n",
              "      }\n",
              "    </script>\n",
              "  </div>\n",
              "\n",
              "\n",
              "<div id=\"df-2f7e47e4-f387-419c-9694-c46e0ea2a09e\">\n",
              "  <button class=\"colab-df-quickchart\" onclick=\"quickchart('df-2f7e47e4-f387-419c-9694-c46e0ea2a09e')\"\n",
              "            title=\"Suggest charts\"\n",
              "            style=\"display:none;\">\n",
              "\n",
              "<svg xmlns=\"http://www.w3.org/2000/svg\" height=\"24px\"viewBox=\"0 0 24 24\"\n",
              "     width=\"24px\">\n",
              "    <g>\n",
              "        <path d=\"M19 3H5c-1.1 0-2 .9-2 2v14c0 1.1.9 2 2 2h14c1.1 0 2-.9 2-2V5c0-1.1-.9-2-2-2zM9 17H7v-7h2v7zm4 0h-2V7h2v10zm4 0h-2v-4h2v4z\"/>\n",
              "    </g>\n",
              "</svg>\n",
              "  </button>\n",
              "\n",
              "<style>\n",
              "  .colab-df-quickchart {\n",
              "      --bg-color: #E8F0FE;\n",
              "      --fill-color: #1967D2;\n",
              "      --hover-bg-color: #E2EBFA;\n",
              "      --hover-fill-color: #174EA6;\n",
              "      --disabled-fill-color: #AAA;\n",
              "      --disabled-bg-color: #DDD;\n",
              "  }\n",
              "\n",
              "  [theme=dark] .colab-df-quickchart {\n",
              "      --bg-color: #3B4455;\n",
              "      --fill-color: #D2E3FC;\n",
              "      --hover-bg-color: #434B5C;\n",
              "      --hover-fill-color: #FFFFFF;\n",
              "      --disabled-bg-color: #3B4455;\n",
              "      --disabled-fill-color: #666;\n",
              "  }\n",
              "\n",
              "  .colab-df-quickchart {\n",
              "    background-color: var(--bg-color);\n",
              "    border: none;\n",
              "    border-radius: 50%;\n",
              "    cursor: pointer;\n",
              "    display: none;\n",
              "    fill: var(--fill-color);\n",
              "    height: 32px;\n",
              "    padding: 0;\n",
              "    width: 32px;\n",
              "  }\n",
              "\n",
              "  .colab-df-quickchart:hover {\n",
              "    background-color: var(--hover-bg-color);\n",
              "    box-shadow: 0 1px 2px rgba(60, 64, 67, 0.3), 0 1px 3px 1px rgba(60, 64, 67, 0.15);\n",
              "    fill: var(--button-hover-fill-color);\n",
              "  }\n",
              "\n",
              "  .colab-df-quickchart-complete:disabled,\n",
              "  .colab-df-quickchart-complete:disabled:hover {\n",
              "    background-color: var(--disabled-bg-color);\n",
              "    fill: var(--disabled-fill-color);\n",
              "    box-shadow: none;\n",
              "  }\n",
              "\n",
              "  .colab-df-spinner {\n",
              "    border: 2px solid var(--fill-color);\n",
              "    border-color: transparent;\n",
              "    border-bottom-color: var(--fill-color);\n",
              "    animation:\n",
              "      spin 1s steps(1) infinite;\n",
              "  }\n",
              "\n",
              "  @keyframes spin {\n",
              "    0% {\n",
              "      border-color: transparent;\n",
              "      border-bottom-color: var(--fill-color);\n",
              "      border-left-color: var(--fill-color);\n",
              "    }\n",
              "    20% {\n",
              "      border-color: transparent;\n",
              "      border-left-color: var(--fill-color);\n",
              "      border-top-color: var(--fill-color);\n",
              "    }\n",
              "    30% {\n",
              "      border-color: transparent;\n",
              "      border-left-color: var(--fill-color);\n",
              "      border-top-color: var(--fill-color);\n",
              "      border-right-color: var(--fill-color);\n",
              "    }\n",
              "    40% {\n",
              "      border-color: transparent;\n",
              "      border-right-color: var(--fill-color);\n",
              "      border-top-color: var(--fill-color);\n",
              "    }\n",
              "    60% {\n",
              "      border-color: transparent;\n",
              "      border-right-color: var(--fill-color);\n",
              "    }\n",
              "    80% {\n",
              "      border-color: transparent;\n",
              "      border-right-color: var(--fill-color);\n",
              "      border-bottom-color: var(--fill-color);\n",
              "    }\n",
              "    90% {\n",
              "      border-color: transparent;\n",
              "      border-bottom-color: var(--fill-color);\n",
              "    }\n",
              "  }\n",
              "</style>\n",
              "\n",
              "  <script>\n",
              "    async function quickchart(key) {\n",
              "      const quickchartButtonEl =\n",
              "        document.querySelector('#' + key + ' button');\n",
              "      quickchartButtonEl.disabled = true;  // To prevent multiple clicks.\n",
              "      quickchartButtonEl.classList.add('colab-df-spinner');\n",
              "      try {\n",
              "        const charts = await google.colab.kernel.invokeFunction(\n",
              "            'suggestCharts', [key], {});\n",
              "      } catch (error) {\n",
              "        console.error('Error during call to suggestCharts:', error);\n",
              "      }\n",
              "      quickchartButtonEl.classList.remove('colab-df-spinner');\n",
              "      quickchartButtonEl.classList.add('colab-df-quickchart-complete');\n",
              "    }\n",
              "    (() => {\n",
              "      let quickchartButtonEl =\n",
              "        document.querySelector('#df-2f7e47e4-f387-419c-9694-c46e0ea2a09e button');\n",
              "      quickchartButtonEl.style.display =\n",
              "        google.colab.kernel.accessAllowed ? 'block' : 'none';\n",
              "    })();\n",
              "  </script>\n",
              "</div>\n",
              "    </div>\n",
              "  </div>\n"
            ]
          },
          "metadata": {},
          "execution_count": 33
        }
      ],
      "source": [
        "data.head()"
      ]
    },
    {
      "cell_type": "markdown",
      "metadata": {
        "id": "fwDtqf0bii-C"
      },
      "source": [
        "2. Investigate the dataset for missing or problematic data."
      ]
    },
    {
      "cell_type": "code",
      "source": [
        "# explore schema and size\n",
        "print(data.shape)\n",
        "print(data.isna().sum())"
      ],
      "metadata": {
        "id": "3OpAzUjVoidq",
        "outputId": "b494afc9-e157-49ab-fc82-e81312901986",
        "colab": {
          "base_uri": "https://localhost:8080/"
        }
      },
      "execution_count": 34,
      "outputs": [
        {
          "output_type": "stream",
          "name": "stdout",
          "text": [
            "(12684, 26)\n",
            "destination                 0\n",
            "passanger                   0\n",
            "weather                     0\n",
            "temperature                 0\n",
            "time                        0\n",
            "coupon                      0\n",
            "expiration                  0\n",
            "gender                      0\n",
            "age                         0\n",
            "maritalStatus               0\n",
            "has_children                0\n",
            "education                   0\n",
            "occupation                  0\n",
            "income                      0\n",
            "car                     12576\n",
            "Bar                       107\n",
            "CoffeeHouse               217\n",
            "CarryAway                 151\n",
            "RestaurantLessThan20      130\n",
            "Restaurant20To50          189\n",
            "toCoupon_GEQ5min            0\n",
            "toCoupon_GEQ15min           0\n",
            "toCoupon_GEQ25min           0\n",
            "direction_same              0\n",
            "direction_opp               0\n",
            "Y                           0\n",
            "dtype: int64\n"
          ]
        }
      ]
    },
    {
      "cell_type": "code",
      "execution_count": 35,
      "metadata": {
        "colab": {
          "base_uri": "https://localhost:8080/",
          "height": 1000
        },
        "id": "Ry4-Om0Tii-C",
        "outputId": "75b47339-04dd-425e-9e0e-de8c56143e16"
      },
      "outputs": [
        {
          "output_type": "stream",
          "name": "stdout",
          "text": [
            "column value counts\n",
            "Bar\n",
            "never    5197\n",
            "less1    3482\n",
            "1~3      2473\n",
            "4~8      1076\n",
            "gt8       349\n",
            "Name: Bar, dtype: int64\n",
            "-------------------------------\n",
            "income\n",
            "$25000 - $37499     2013\n",
            "$12500 - $24999     1831\n",
            "$37500 - $49999     1805\n",
            "$100000 or More     1736\n",
            "$50000 - $62499     1659\n",
            "Less than $12500    1042\n",
            "$87500 - $99999      895\n",
            "$75000 - $87499      857\n",
            "$62500 - $74999      846\n",
            "Name: income, dtype: int64\n",
            "-------------------------------\n",
            "age\n",
            "21         2653\n",
            "26         2559\n",
            "31         2039\n",
            "50plus     1788\n",
            "36         1319\n",
            "41         1093\n",
            "46          686\n",
            "below21     547\n",
            "Name: age, dtype: int64\n",
            "-------------------------------\n",
            "passanger\n",
            "Alone        7305\n",
            "Friend(s)    3298\n",
            "Partner      1075\n",
            "Kid(s)       1006\n",
            "Name: passanger, dtype: int64\n",
            "-------------------------------\n",
            "column histograms vs acceptance \n"
          ]
        },
        {
          "output_type": "stream",
          "name": "stderr",
          "text": [
            "<ipython-input-35-f7ea08268c0c>:17: UserWarning: FixedFormatter should only be used together with FixedLocator\n",
            "  chart.set_xticklabels(chart.get_xticklabels(), rotation=90)\n"
          ]
        },
        {
          "output_type": "display_data",
          "data": {
            "text/plain": [
              "<Figure size 640x480 with 1 Axes>"
            ],
            "image/png": "[encoded data removed]"
          },
          "metadata": {}
        },
        {
          "output_type": "stream",
          "name": "stderr",
          "text": [
            "<ipython-input-35-f7ea08268c0c>:17: UserWarning: FixedFormatter should only be used together with FixedLocator\n",
            "  chart.set_xticklabels(chart.get_xticklabels(), rotation=90)\n"
          ]
        },
        {
          "output_type": "display_data",
          "data": {
            "text/plain": [
              "<Figure size 640x480 with 1 Axes>"
            ],
            "image/png": "[encoded data removed]"
          },
          "metadata": {}
        },
        {
          "output_type": "stream",
          "name": "stderr",
          "text": [
            "<ipython-input-35-f7ea08268c0c>:17: UserWarning: FixedFormatter should only be used together with FixedLocator\n",
            "  chart.set_xticklabels(chart.get_xticklabels(), rotation=90)\n"
          ]
        },
        {
          "output_type": "display_data",
          "data": {
            "text/plain": [
              "<Figure size 640x480 with 1 Axes>"
            ],
            "image/png": "[encoded data removed]"
          },
          "metadata": {}
        },
        {
          "output_type": "stream",
          "name": "stderr",
          "text": [
            "<ipython-input-35-f7ea08268c0c>:17: UserWarning: FixedFormatter should only be used together with FixedLocator\n",
            "  chart.set_xticklabels(chart.get_xticklabels(), rotation=90)\n"
          ]
        },
        {
          "output_type": "display_data",
          "data": {
            "text/plain": [
              "<Figure size 640x480 with 1 Axes>"
            ],
            "image/png": "[encoded data removed]"
          },
          "metadata": {}
        }
      ],
      "source": [
        "# I like to look at thse value_counts and simple charts across all columns to get a feel for the data\n",
        "# Reduced this exploration to a specific list to save space in final submission to give you a feel for it\n",
        "#exploration_cols = data.columns\n",
        "exploration_cols = ['Bar', 'income','age', 'passanger']\n",
        "print('column value counts')\n",
        "for r in exploration_cols:\n",
        "  print(r)\n",
        "  print(data[r].value_counts().sort_values(ascending=False))\n",
        "\n",
        "  print(\"-------------------------------\")\n",
        "\n",
        "print('column histograms vs acceptance ')\n",
        "\n",
        "\n",
        "for r in exploration_cols:\n",
        "  chart = sns.histplot(data=data, x=r, hue=\"Y\")\n",
        "  chart.set_xticklabels(chart.get_xticklabels(), rotation=90)\n",
        "  plt.show()\n",
        "\n"
      ]
    },
    {
      "cell_type": "markdown",
      "metadata": {
        "id": "jVuNeHfvByK9"
      },
      "source": [
        "**Data quality and meaning assumptions**\n",
        "\n",
        "1.   The car columns is almost all nulls. Won't use it in the analysis.\n",
        "2.   Cofee house, bar, carryaway, restlessthan20 and rest20to50 are missing in about 1-2% of the data set. Will change these values to 'Unknown' so that these values become more visible in charting.\n",
        "3.   Assuming the GE toCouponGE[] columns means GreaterThanEqualTo. This makes sense because the toCouponGE5 data set has only 1(True) values while toCouponGE20 has some 0(False) values. Be aware of this overlap across these columns.\n",
        "4.   In coupon field, going to assume Carryout & Takeway is mutually exclusive from the other fields. Meaning the coupon is exclusively about Carryout & Takeway from any type of food vendor (Restaurant, Bar, etc). Assuming we don't know where the Carryout & Takeaway was actually from.\n",
        "\n",
        "\n",
        "\n"
      ]
    },
    {
      "cell_type": "markdown",
      "metadata": {
        "id": "6rqTsyFVii-C"
      },
      "source": [
        "3. Decide what to do about your missing data -- drop, replace, other..."
      ]
    },
    {
      "cell_type": "code",
      "execution_count": 36,
      "metadata": {
        "colab": {
          "base_uri": "https://localhost:8080/"
        },
        "id": "zVqdGGYJii-C",
        "outputId": "f95edc21-6b5b-49bc-db2d-430161f25175"
      },
      "outputs": [
        {
          "output_type": "stream",
          "name": "stdout",
          "text": [
            "Bar nulls before: 107\n",
            "Set nulls to \"Unknown\"\n",
            "Bar nulls after: 0\n",
            "---\n",
            "CoffeeHouse nulls before: 217\n",
            "Set nulls to \"Unknown\"\n",
            "CoffeeHouse nulls after: 0\n",
            "---\n",
            "CarryAway nulls before: 151\n",
            "Set nulls to \"Unknown\"\n",
            "CarryAway nulls after: 0\n",
            "---\n",
            "RestaurantLessThan20 nulls before: 130\n",
            "Set nulls to \"Unknown\"\n",
            "RestaurantLessThan20 nulls after: 0\n",
            "---\n",
            "Restaurant20To50 nulls before: 189\n",
            "Set nulls to \"Unknown\"\n",
            "Restaurant20To50 nulls after: 0\n",
            "---\n"
          ]
        }
      ],
      "source": [
        "# set several columns null values to 'Uknown' as per above note\n",
        "# Nulls/NaNs set to string 'Unknown'\n",
        "#Bar                       107\n",
        "#CoffeeHouse               217\n",
        "#CarryAway                 151\n",
        "#RestaurantLessThan20      130\n",
        "#Restaurant20To50          189\n",
        "\n",
        "# Handle setting to 'Unknown'\n",
        "cols_to_clean = ['Bar', 'CoffeeHouse', 'CarryAway', 'RestaurantLessThan20', 'Restaurant20To50']\n",
        "for c in cols_to_clean:\n",
        "  n_c = data[c].isna().sum()\n",
        "  print(f'{c} nulls before: {n_c}')\n",
        "  print('Set nulls to \"Unknown\"')\n",
        "  data.loc[data[c].isna() , c] = 'Unknown'\n",
        "  n_c = data[c].isna().sum()\n",
        "  print(f'{c} nulls after: {n_c}')\n",
        "  print('---')\n",
        "\n",
        "\n"
      ]
    },
    {
      "cell_type": "markdown",
      "metadata": {
        "id": "tOAWLB32ii-C"
      },
      "source": [
        "4. What proportion of the total observations chose to accept the coupon?\n",
        "\n"
      ]
    },
    {
      "cell_type": "code",
      "execution_count": 37,
      "metadata": {
        "colab": {
          "base_uri": "https://localhost:8080/"
        },
        "id": "cskzDioZii-D",
        "outputId": "2d793210-d1fe-434d-8ef5-5a5adf1801bd"
      },
      "outputs": [
        {
          "output_type": "stream",
          "name": "stdout",
          "text": [
            "The proportion of the total observations accpted is 0.568\n"
          ]
        }
      ],
      "source": [
        "total = data['Y'].count()\n",
        "accepted = data.query('Y == 1')['Y'].count()\n",
        "print(f'The proportion of the total observations accpted is {accepted/total:.3f}')\n"
      ]
    },
    {
      "cell_type": "markdown",
      "metadata": {
        "id": "XJ2-lPf6ii-D"
      },
      "source": [
        "5. Use a bar plot to visualize the `coupon` column."
      ]
    },
    {
      "cell_type": "code",
      "execution_count": 38,
      "metadata": {
        "colab": {
          "base_uri": "https://localhost:8080/",
          "height": 363
        },
        "id": "qlcv1aYiM39w",
        "outputId": "fc56c783-45b4-41c5-db98-30dfe474f582"
      },
      "outputs": [
        {
          "output_type": "execute_result",
          "data": {
            "text/plain": [
              "             Coupon_Type      Accepted  Count\n",
              "0                    Bar  NOT Accepted   1190\n",
              "1                    Bar      Accepted    827\n",
              "2  Carry out & Take away  NOT Accepted    633\n",
              "3  Carry out & Take away      Accepted   1760\n",
              "4           Coffee House  NOT Accepted   2001\n",
              "5           Coffee House      Accepted   1995\n",
              "6      Restaurant(20-50)  NOT Accepted    834\n",
              "7      Restaurant(20-50)      Accepted    658\n",
              "8        Restaurant(<20)  NOT Accepted    816\n",
              "9        Restaurant(<20)      Accepted   1970"
            ],
            "text/html": [
              "\n",
              "  <div id=\"df-e04e3d31-0d46-4993-864a-9e332c338676\" class=\"colab-df-container\">\n",
              "    <div>\n",
              "<style scoped>\n",
              "    .dataframe tbody tr th:only-of-type {\n",
              "        vertical-align: middle;\n",
              "    }\n",
              "\n",
              "    .dataframe tbody tr th {\n",
              "        vertical-align: top;\n",
              "    }\n",
              "\n",
              "    .dataframe thead th {\n",
              "        text-align: right;\n",
              "    }\n",
              "</style>\n",
              "<table border=\"1\" class=\"dataframe\">\n",
              "  <thead>\n",
              "    <tr style=\"text-align: right;\">\n",
              "      <th></th>\n",
              "      <th>Coupon_Type</th>\n",
              "      <th>Accepted</th>\n",
              "      <th>Count</th>\n",
              "    </tr>\n",
              "  </thead>\n",
              "  <tbody>\n",
              "    <tr>\n",
              "      <th>0</th>\n",
              "      <td>Bar</td>\n",
              "      <td>NOT Accepted</td>\n",
              "      <td>1190</td>\n",
              "    </tr>\n",
              "    <tr>\n",
              "      <th>1</th>\n",
              "      <td>Bar</td>\n",
              "      <td>Accepted</td>\n",
              "      <td>827</td>\n",
              "    </tr>\n",
              "    <tr>\n",
              "      <th>2</th>\n",
              "      <td>Carry out &amp; Take away</td>\n",
              "      <td>NOT Accepted</td>\n",
              "      <td>633</td>\n",
              "    </tr>\n",
              "    <tr>\n",
              "      <th>3</th>\n",
              "      <td>Carry out &amp; Take away</td>\n",
              "      <td>Accepted</td>\n",
              "      <td>1760</td>\n",
              "    </tr>\n",
              "    <tr>\n",
              "      <th>4</th>\n",
              "      <td>Coffee House</td>\n",
              "      <td>NOT Accepted</td>\n",
              "      <td>2001</td>\n",
              "    </tr>\n",
              "    <tr>\n",
              "      <th>5</th>\n",
              "      <td>Coffee House</td>\n",
              "      <td>Accepted</td>\n",
              "      <td>1995</td>\n",
              "    </tr>\n",
              "    <tr>\n",
              "      <th>6</th>\n",
              "      <td>Restaurant(20-50)</td>\n",
              "      <td>NOT Accepted</td>\n",
              "      <td>834</td>\n",
              "    </tr>\n",
              "    <tr>\n",
              "      <th>7</th>\n",
              "      <td>Restaurant(20-50)</td>\n",
              "      <td>Accepted</td>\n",
              "      <td>658</td>\n",
              "    </tr>\n",
              "    <tr>\n",
              "      <th>8</th>\n",
              "      <td>Restaurant(&lt;20)</td>\n",
              "      <td>NOT Accepted</td>\n",
              "      <td>816</td>\n",
              "    </tr>\n",
              "    <tr>\n",
              "      <th>9</th>\n",
              "      <td>Restaurant(&lt;20)</td>\n",
              "      <td>Accepted</td>\n",
              "      <td>1970</td>\n",
              "    </tr>\n",
              "  </tbody>\n",
              "</table>\n",
              "</div>\n",
              "    <div class=\"colab-df-buttons\">\n",
              "\n",
              "  <div class=\"colab-df-container\">\n",
              "    <button class=\"colab-df-convert\" onclick=\"convertToInteractive('df-e04e3d31-0d46-4993-864a-9e332c338676')\"\n",
              "            title=\"Convert this dataframe to an interactive table.\"\n",
              "            style=\"display:none;\">\n",
              "\n",
              "  <svg xmlns=\"http://www.w3.org/2000/svg\" height=\"24px\" viewBox=\"0 -960 960 960\">\n",
              "    <path d=\"M120-120v-720h720v720H120Zm60-500h600v-160H180v160Zm220 220h160v-160H400v160Zm0 220h160v-160H400v160ZM180-400h160v-160H180v160Zm440 0h160v-160H620v160ZM180-180h160v-160H180v160Zm440 0h160v-160H620v160Z\"/>\n",
              "  </svg>\n",
              "    </button>\n",
              "\n",
              "  <style>\n",
              "    .colab-df-container {\n",
              "      display:flex;\n",
              "      gap: 12px;\n",
              "    }\n",
              "\n",
              "    .colab-df-convert {\n",
              "      background-color: #E8F0FE;\n",
              "      border: none;\n",
              "      border-radius: 50%;\n",
              "      cursor: pointer;\n",
              "      display: none;\n",
              "      fill: #1967D2;\n",
              "      height: 32px;\n",
              "      padding: 0 0 0 0;\n",
              "      width: 32px;\n",
              "    }\n",
              "\n",
              "    .colab-df-convert:hover {\n",
              "      background-color: #E2EBFA;\n",
              "      box-shadow: 0px 1px 2px rgba(60, 64, 67, 0.3), 0px 1px 3px 1px rgba(60, 64, 67, 0.15);\n",
              "      fill: #174EA6;\n",
              "    }\n",
              "\n",
              "    .colab-df-buttons div {\n",
              "      margin-bottom: 4px;\n",
              "    }\n",
              "\n",
              "    [theme=dark] .colab-df-convert {\n",
              "      background-color: #3B4455;\n",
              "      fill: #D2E3FC;\n",
              "    }\n",
              "\n",
              "    [theme=dark] .colab-df-convert:hover {\n",
              "      background-color: #434B5C;\n",
              "      box-shadow: 0px 1px 3px 1px rgba(0, 0, 0, 0.15);\n",
              "      filter: drop-shadow(0px 1px 2px rgba(0, 0, 0, 0.3));\n",
              "      fill: #FFFFFF;\n",
              "    }\n",
              "  </style>\n",
              "\n",
              "    <script>\n",
              "      const buttonEl =\n",
              "        document.querySelector('#df-e04e3d31-0d46-4993-864a-9e332c338676 button.colab-df-convert');\n",
              "      buttonEl.style.display =\n",
              "        google.colab.kernel.accessAllowed ? 'block' : 'none';\n",
              "\n",
              "      async function convertToInteractive(key) {\n",
              "        const element = document.querySelector('#df-e04e3d31-0d46-4993-864a-9e332c338676');\n",
              "        const dataTable =\n",
              "          await google.colab.kernel.invokeFunction('convertToInteractive',\n",
              "                                                    [key], {});\n",
              "        if (!dataTable) return;\n",
              "\n",
              "        const docLinkHtml = 'Like what you see? Visit the ' +\n",
              "          '<a target=\"_blank\" href=https://colab.research.google.com/notebooks/data_table.ipynb>data table notebook</a>'\n",
              "          + ' to learn more about interactive tables.';\n",
              "        element.innerHTML = '';\n",
              "        dataTable['output_type'] = 'display_data';\n",
              "        await google.colab.output.renderOutput(dataTable, element);\n",
              "        const docLink = document.createElement('div');\n",
              "        docLink.innerHTML = docLinkHtml;\n",
              "        element.appendChild(docLink);\n",
              "      }\n",
              "    </script>\n",
              "  </div>\n",
              "\n",
              "\n",
              "<div id=\"df-4e3466e2-a55c-4400-ab79-49496711b8d1\">\n",
              "  <button class=\"colab-df-quickchart\" onclick=\"quickchart('df-4e3466e2-a55c-4400-ab79-49496711b8d1')\"\n",
              "            title=\"Suggest charts\"\n",
              "            style=\"display:none;\">\n",
              "\n",
              "<svg xmlns=\"http://www.w3.org/2000/svg\" height=\"24px\"viewBox=\"0 0 24 24\"\n",
              "     width=\"24px\">\n",
              "    <g>\n",
              "        <path d=\"M19 3H5c-1.1 0-2 .9-2 2v14c0 1.1.9 2 2 2h14c1.1 0 2-.9 2-2V5c0-1.1-.9-2-2-2zM9 17H7v-7h2v7zm4 0h-2V7h2v10zm4 0h-2v-4h2v4z\"/>\n",
              "    </g>\n",
              "</svg>\n",
              "  </button>\n",
              "\n",
              "<style>\n",
              "  .colab-df-quickchart {\n",
              "      --bg-color: #E8F0FE;\n",
              "      --fill-color: #1967D2;\n",
              "      --hover-bg-color: #E2EBFA;\n",
              "      --hover-fill-color: #174EA6;\n",
              "      --disabled-fill-color: #AAA;\n",
              "      --disabled-bg-color: #DDD;\n",
              "  }\n",
              "\n",
              "  [theme=dark] .colab-df-quickchart {\n",
              "      --bg-color: #3B4455;\n",
              "      --fill-color: #D2E3FC;\n",
              "      --hover-bg-color: #434B5C;\n",
              "      --hover-fill-color: #FFFFFF;\n",
              "      --disabled-bg-color: #3B4455;\n",
              "      --disabled-fill-color: #666;\n",
              "  }\n",
              "\n",
              "  .colab-df-quickchart {\n",
              "    background-color: var(--bg-color);\n",
              "    border: none;\n",
              "    border-radius: 50%;\n",
              "    cursor: pointer;\n",
              "    display: none;\n",
              "    fill: var(--fill-color);\n",
              "    height: 32px;\n",
              "    padding: 0;\n",
              "    width: 32px;\n",
              "  }\n",
              "\n",
              "  .colab-df-quickchart:hover {\n",
              "    background-color: var(--hover-bg-color);\n",
              "    box-shadow: 0 1px 2px rgba(60, 64, 67, 0.3), 0 1px 3px 1px rgba(60, 64, 67, 0.15);\n",
              "    fill: var(--button-hover-fill-color);\n",
              "  }\n",
              "\n",
              "  .colab-df-quickchart-complete:disabled,\n",
              "  .colab-df-quickchart-complete:disabled:hover {\n",
              "    background-color: var(--disabled-bg-color);\n",
              "    fill: var(--disabled-fill-color);\n",
              "    box-shadow: none;\n",
              "  }\n",
              "\n",
              "  .colab-df-spinner {\n",
              "    border: 2px solid var(--fill-color);\n",
              "    border-color: transparent;\n",
              "    border-bottom-color: var(--fill-color);\n",
              "    animation:\n",
              "      spin 1s steps(1) infinite;\n",
              "  }\n",
              "\n",
              "  @keyframes spin {\n",
              "    0% {\n",
              "      border-color: transparent;\n",
              "      border-bottom-color: var(--fill-color);\n",
              "      border-left-color: var(--fill-color);\n",
              "    }\n",
              "    20% {\n",
              "      border-color: transparent;\n",
              "      border-left-color: var(--fill-color);\n",
              "      border-top-color: var(--fill-color);\n",
              "    }\n",
              "    30% {\n",
              "      border-color: transparent;\n",
              "      border-left-color: var(--fill-color);\n",
              "      border-top-color: var(--fill-color);\n",
              "      border-right-color: var(--fill-color);\n",
              "    }\n",
              "    40% {\n",
              "      border-color: transparent;\n",
              "      border-right-color: var(--fill-color);\n",
              "      border-top-color: var(--fill-color);\n",
              "    }\n",
              "    60% {\n",
              "      border-color: transparent;\n",
              "      border-right-color: var(--fill-color);\n",
              "    }\n",
              "    80% {\n",
              "      border-color: transparent;\n",
              "      border-right-color: var(--fill-color);\n",
              "      border-bottom-color: var(--fill-color);\n",
              "    }\n",
              "    90% {\n",
              "      border-color: transparent;\n",
              "      border-bottom-color: var(--fill-color);\n",
              "    }\n",
              "  }\n",
              "</style>\n",
              "\n",
              "  <script>\n",
              "    async function quickchart(key) {\n",
              "      const quickchartButtonEl =\n",
              "        document.querySelector('#' + key + ' button');\n",
              "      quickchartButtonEl.disabled = true;  // To prevent multiple clicks.\n",
              "      quickchartButtonEl.classList.add('colab-df-spinner');\n",
              "      try {\n",
              "        const charts = await google.colab.kernel.invokeFunction(\n",
              "            'suggestCharts', [key], {});\n",
              "      } catch (error) {\n",
              "        console.error('Error during call to suggestCharts:', error);\n",
              "      }\n",
              "      quickchartButtonEl.classList.remove('colab-df-spinner');\n",
              "      quickchartButtonEl.classList.add('colab-df-quickchart-complete');\n",
              "    }\n",
              "    (() => {\n",
              "      let quickchartButtonEl =\n",
              "        document.querySelector('#df-4e3466e2-a55c-4400-ab79-49496711b8d1 button');\n",
              "      quickchartButtonEl.style.display =\n",
              "        google.colab.kernel.accessAllowed ? 'block' : 'none';\n",
              "    })();\n",
              "  </script>\n",
              "</div>\n",
              "    </div>\n",
              "  </div>\n"
            ]
          },
          "metadata": {},
          "execution_count": 38
        }
      ],
      "source": [
        "#Group by Coupon and Y\n",
        "data_grp = data.groupby(['coupon','Y']).count().reset_index()\n",
        "# Only need index and one numeric column for bar plot 'count' of rows\n",
        "data_grp_slice = data_grp.iloc[:, [0,1,2]]\n",
        "# Rename Columns\n",
        "data_grp_slice.columns = ['Coupon_Type','Accepted','Count']\n",
        "data_grp_slice.loc[(data_grp_slice['Accepted'] == 1) , 'Accepted'] = \"Accepted\"\n",
        "data_grp_slice.loc[(data_grp_slice['Accepted'] == 0) , 'Accepted'] = \"NOT Accepted\"\n",
        "data_grp_slice\n",
        "\n",
        "\n"
      ]
    },
    {
      "cell_type": "code",
      "execution_count": 39,
      "metadata": {
        "colab": {
          "base_uri": "https://localhost:8080/",
          "height": 614
        },
        "id": "e0SxExuHii-D",
        "outputId": "d4b481bf-b471-4dde-c8c4-dec077818787"
      },
      "outputs": [
        {
          "output_type": "display_data",
          "data": {
            "text/plain": [
              "<Figure size 640x480 with 1 Axes>"
            ],
            "image/png": "[encoded data removed]"
          },
          "metadata": {}
        }
      ],
      "source": [
        "#plotting the barplot\n",
        "sns.barplot(data=data_grp_slice, x='Coupon_Type' , y='Count',errorbar=None, hue='Accepted')\n",
        "#rotating x-axes values for better viz\n",
        "plt.xticks(rotation = 'vertical')\n",
        "#labeling\n",
        "plt.title('Coupon Acceptance By Type')\n",
        "plt.xlabel(f'Coupon Type: Acceptance')\n",
        "plt.ylabel(f'Count')\n",
        "plt.show()"
      ]
    },
    {
      "cell_type": "markdown",
      "metadata": {
        "id": "0kB_BXL2ii-D"
      },
      "source": [
        "6. Use a histogram to visualize the temperature column."
      ]
    },
    {
      "cell_type": "code",
      "execution_count": 40,
      "metadata": {
        "colab": {
          "base_uri": "https://localhost:8080/",
          "height": 472
        },
        "id": "QEoynpGoii-D",
        "outputId": "4b9defbf-ca2b-44a1-c891-2ea1e03c02bb"
      },
      "outputs": [
        {
          "output_type": "display_data",
          "data": {
            "text/plain": [
              "<Figure size 640x480 with 1 Axes>"
            ],
            "image/png": "[encoded data removed]"
          },
          "metadata": {}
        }
      ],
      "source": [
        "sns.histplot(data=data, x='temperature', hue='Y')\n",
        "\n",
        "# Add a title and labels to the plot\n",
        "plt.title('Temperature by Acceptance')\n",
        "plt.xlabel('Temperature')\n",
        "plt.ylabel('Count')\n",
        "plt.legend(title='Coupon', loc='upper left', labels=['Accepted', 'NOT Accepted'])\n",
        "# Show the plot\n",
        "plt.show()"
      ]
    },
    {
      "cell_type": "code",
      "execution_count": 41,
      "metadata": {
        "colab": {
          "base_uri": "https://localhost:8080/",
          "height": 206
        },
        "id": "WcXWrlzVii-D",
        "outputId": "baa54dca-ac69-4a1d-fd1d-c06159a5031f"
      },
      "outputs": [
        {
          "output_type": "execute_result",
          "data": {
            "text/plain": [
              "             Coupon_Type  Accepted  Count  Total_Count  Acceptance_Pct\n",
              "1                    Bar  Accepted    827         2017            41.0\n",
              "3  Carry out & Take away  Accepted   1760         2393            73.5\n",
              "5           Coffee House  Accepted   1995         3996            49.9\n",
              "7      Restaurant(20-50)  Accepted    658         1492            44.1\n",
              "9        Restaurant(<20)  Accepted   1970         2786            70.7"
            ],
            "text/html": [
              "\n",
              "  <div id=\"df-6e798674-20b9-44c3-883f-3e3644997eca\" class=\"colab-df-container\">\n",
              "    <div>\n",
              "<style scoped>\n",
              "    .dataframe tbody tr th:only-of-type {\n",
              "        vertical-align: middle;\n",
              "    }\n",
              "\n",
              "    .dataframe tbody tr th {\n",
              "        vertical-align: top;\n",
              "    }\n",
              "\n",
              "    .dataframe thead th {\n",
              "        text-align: right;\n",
              "    }\n",
              "</style>\n",
              "<table border=\"1\" class=\"dataframe\">\n",
              "  <thead>\n",
              "    <tr style=\"text-align: right;\">\n",
              "      <th></th>\n",
              "      <th>Coupon_Type</th>\n",
              "      <th>Accepted</th>\n",
              "      <th>Count</th>\n",
              "      <th>Total_Count</th>\n",
              "      <th>Acceptance_Pct</th>\n",
              "    </tr>\n",
              "  </thead>\n",
              "  <tbody>\n",
              "    <tr>\n",
              "      <th>1</th>\n",
              "      <td>Bar</td>\n",
              "      <td>Accepted</td>\n",
              "      <td>827</td>\n",
              "      <td>2017</td>\n",
              "      <td>41.0</td>\n",
              "    </tr>\n",
              "    <tr>\n",
              "      <th>3</th>\n",
              "      <td>Carry out &amp; Take away</td>\n",
              "      <td>Accepted</td>\n",
              "      <td>1760</td>\n",
              "      <td>2393</td>\n",
              "      <td>73.5</td>\n",
              "    </tr>\n",
              "    <tr>\n",
              "      <th>5</th>\n",
              "      <td>Coffee House</td>\n",
              "      <td>Accepted</td>\n",
              "      <td>1995</td>\n",
              "      <td>3996</td>\n",
              "      <td>49.9</td>\n",
              "    </tr>\n",
              "    <tr>\n",
              "      <th>7</th>\n",
              "      <td>Restaurant(20-50)</td>\n",
              "      <td>Accepted</td>\n",
              "      <td>658</td>\n",
              "      <td>1492</td>\n",
              "      <td>44.1</td>\n",
              "    </tr>\n",
              "    <tr>\n",
              "      <th>9</th>\n",
              "      <td>Restaurant(&lt;20)</td>\n",
              "      <td>Accepted</td>\n",
              "      <td>1970</td>\n",
              "      <td>2786</td>\n",
              "      <td>70.7</td>\n",
              "    </tr>\n",
              "  </tbody>\n",
              "</table>\n",
              "</div>\n",
              "    <div class=\"colab-df-buttons\">\n",
              "\n",
              "  <div class=\"colab-df-container\">\n",
              "    <button class=\"colab-df-convert\" onclick=\"convertToInteractive('df-6e798674-20b9-44c3-883f-3e3644997eca')\"\n",
              "            title=\"Convert this dataframe to an interactive table.\"\n",
              "            style=\"display:none;\">\n",
              "\n",
              "  <svg xmlns=\"http://www.w3.org/2000/svg\" height=\"24px\" viewBox=\"0 -960 960 960\">\n",
              "    <path d=\"M120-120v-720h720v720H120Zm60-500h600v-160H180v160Zm220 220h160v-160H400v160Zm0 220h160v-160H400v160ZM180-400h160v-160H180v160Zm440 0h160v-160H620v160ZM180-180h160v-160H180v160Zm440 0h160v-160H620v160Z\"/>\n",
              "  </svg>\n",
              "    </button>\n",
              "\n",
              "  <style>\n",
              "    .colab-df-container {\n",
              "      display:flex;\n",
              "      gap: 12px;\n",
              "    }\n",
              "\n",
              "    .colab-df-convert {\n",
              "      background-color: #E8F0FE;\n",
              "      border: none;\n",
              "      border-radius: 50%;\n",
              "      cursor: pointer;\n",
              "      display: none;\n",
              "      fill: #1967D2;\n",
              "      height: 32px;\n",
              "      padding: 0 0 0 0;\n",
              "      width: 32px;\n",
              "    }\n",
              "\n",
              "    .colab-df-convert:hover {\n",
              "      background-color: #E2EBFA;\n",
              "      box-shadow: 0px 1px 2px rgba(60, 64, 67, 0.3), 0px 1px 3px 1px rgba(60, 64, 67, 0.15);\n",
              "      fill: #174EA6;\n",
              "    }\n",
              "\n",
              "    .colab-df-buttons div {\n",
              "      margin-bottom: 4px;\n",
              "    }\n",
              "\n",
              "    [theme=dark] .colab-df-convert {\n",
              "      background-color: #3B4455;\n",
              "      fill: #D2E3FC;\n",
              "    }\n",
              "\n",
              "    [theme=dark] .colab-df-convert:hover {\n",
              "      background-color: #434B5C;\n",
              "      box-shadow: 0px 1px 3px 1px rgba(0, 0, 0, 0.15);\n",
              "      filter: drop-shadow(0px 1px 2px rgba(0, 0, 0, 0.3));\n",
              "      fill: #FFFFFF;\n",
              "    }\n",
              "  </style>\n",
              "\n",
              "    <script>\n",
              "      const buttonEl =\n",
              "        document.querySelector('#df-6e798674-20b9-44c3-883f-3e3644997eca button.colab-df-convert');\n",
              "      buttonEl.style.display =\n",
              "        google.colab.kernel.accessAllowed ? 'block' : 'none';\n",
              "\n",
              "      async function convertToInteractive(key) {\n",
              "        const element = document.querySelector('#df-6e798674-20b9-44c3-883f-3e3644997eca');\n",
              "        const dataTable =\n",
              "          await google.colab.kernel.invokeFunction('convertToInteractive',\n",
              "                                                    [key], {});\n",
              "        if (!dataTable) return;\n",
              "\n",
              "        const docLinkHtml = 'Like what you see? Visit the ' +\n",
              "          '<a target=\"_blank\" href=https://colab.research.google.com/notebooks/data_table.ipynb>data table notebook</a>'\n",
              "          + ' to learn more about interactive tables.';\n",
              "        element.innerHTML = '';\n",
              "        dataTable['output_type'] = 'display_data';\n",
              "        await google.colab.output.renderOutput(dataTable, element);\n",
              "        const docLink = document.createElement('div');\n",
              "        docLink.innerHTML = docLinkHtml;\n",
              "        element.appendChild(docLink);\n",
              "      }\n",
              "    </script>\n",
              "  </div>\n",
              "\n",
              "\n",
              "<div id=\"df-a8ba0045-6d57-47f4-bd7e-133b05ead259\">\n",
              "  <button class=\"colab-df-quickchart\" onclick=\"quickchart('df-a8ba0045-6d57-47f4-bd7e-133b05ead259')\"\n",
              "            title=\"Suggest charts\"\n",
              "            style=\"display:none;\">\n",
              "\n",
              "<svg xmlns=\"http://www.w3.org/2000/svg\" height=\"24px\"viewBox=\"0 0 24 24\"\n",
              "     width=\"24px\">\n",
              "    <g>\n",
              "        <path d=\"M19 3H5c-1.1 0-2 .9-2 2v14c0 1.1.9 2 2 2h14c1.1 0 2-.9 2-2V5c0-1.1-.9-2-2-2zM9 17H7v-7h2v7zm4 0h-2V7h2v10zm4 0h-2v-4h2v4z\"/>\n",
              "    </g>\n",
              "</svg>\n",
              "  </button>\n",
              "\n",
              "<style>\n",
              "  .colab-df-quickchart {\n",
              "      --bg-color: #E8F0FE;\n",
              "      --fill-color: #1967D2;\n",
              "      --hover-bg-color: #E2EBFA;\n",
              "      --hover-fill-color: #174EA6;\n",
              "      --disabled-fill-color: #AAA;\n",
              "      --disabled-bg-color: #DDD;\n",
              "  }\n",
              "\n",
              "  [theme=dark] .colab-df-quickchart {\n",
              "      --bg-color: #3B4455;\n",
              "      --fill-color: #D2E3FC;\n",
              "      --hover-bg-color: #434B5C;\n",
              "      --hover-fill-color: #FFFFFF;\n",
              "      --disabled-bg-color: #3B4455;\n",
              "      --disabled-fill-color: #666;\n",
              "  }\n",
              "\n",
              "  .colab-df-quickchart {\n",
              "    background-color: var(--bg-color);\n",
              "    border: none;\n",
              "    border-radius: 50%;\n",
              "    cursor: pointer;\n",
              "    display: none;\n",
              "    fill: var(--fill-color);\n",
              "    height: 32px;\n",
              "    padding: 0;\n",
              "    width: 32px;\n",
              "  }\n",
              "\n",
              "  .colab-df-quickchart:hover {\n",
              "    background-color: var(--hover-bg-color);\n",
              "    box-shadow: 0 1px 2px rgba(60, 64, 67, 0.3), 0 1px 3px 1px rgba(60, 64, 67, 0.15);\n",
              "    fill: var(--button-hover-fill-color);\n",
              "  }\n",
              "\n",
              "  .colab-df-quickchart-complete:disabled,\n",
              "  .colab-df-quickchart-complete:disabled:hover {\n",
              "    background-color: var(--disabled-bg-color);\n",
              "    fill: var(--disabled-fill-color);\n",
              "    box-shadow: none;\n",
              "  }\n",
              "\n",
              "  .colab-df-spinner {\n",
              "    border: 2px solid var(--fill-color);\n",
              "    border-color: transparent;\n",
              "    border-bottom-color: var(--fill-color);\n",
              "    animation:\n",
              "      spin 1s steps(1) infinite;\n",
              "  }\n",
              "\n",
              "  @keyframes spin {\n",
              "    0% {\n",
              "      border-color: transparent;\n",
              "      border-bottom-color: var(--fill-color);\n",
              "      border-left-color: var(--fill-color);\n",
              "    }\n",
              "    20% {\n",
              "      border-color: transparent;\n",
              "      border-left-color: var(--fill-color);\n",
              "      border-top-color: var(--fill-color);\n",
              "    }\n",
              "    30% {\n",
              "      border-color: transparent;\n",
              "      border-left-color: var(--fill-color);\n",
              "      border-top-color: var(--fill-color);\n",
              "      border-right-color: var(--fill-color);\n",
              "    }\n",
              "    40% {\n",
              "      border-color: transparent;\n",
              "      border-right-color: var(--fill-color);\n",
              "      border-top-color: var(--fill-color);\n",
              "    }\n",
              "    60% {\n",
              "      border-color: transparent;\n",
              "      border-right-color: var(--fill-color);\n",
              "    }\n",
              "    80% {\n",
              "      border-color: transparent;\n",
              "      border-right-color: var(--fill-color);\n",
              "      border-bottom-color: var(--fill-color);\n",
              "    }\n",
              "    90% {\n",
              "      border-color: transparent;\n",
              "      border-bottom-color: var(--fill-color);\n",
              "    }\n",
              "  }\n",
              "</style>\n",
              "\n",
              "  <script>\n",
              "    async function quickchart(key) {\n",
              "      const quickchartButtonEl =\n",
              "        document.querySelector('#' + key + ' button');\n",
              "      quickchartButtonEl.disabled = true;  // To prevent multiple clicks.\n",
              "      quickchartButtonEl.classList.add('colab-df-spinner');\n",
              "      try {\n",
              "        const charts = await google.colab.kernel.invokeFunction(\n",
              "            'suggestCharts', [key], {});\n",
              "      } catch (error) {\n",
              "        console.error('Error during call to suggestCharts:', error);\n",
              "      }\n",
              "      quickchartButtonEl.classList.remove('colab-df-spinner');\n",
              "      quickchartButtonEl.classList.add('colab-df-quickchart-complete');\n",
              "    }\n",
              "    (() => {\n",
              "      let quickchartButtonEl =\n",
              "        document.querySelector('#df-a8ba0045-6d57-47f4-bd7e-133b05ead259 button');\n",
              "      quickchartButtonEl.style.display =\n",
              "        google.colab.kernel.accessAllowed ? 'block' : 'none';\n",
              "    })();\n",
              "  </script>\n",
              "</div>\n",
              "    </div>\n",
              "  </div>\n"
            ]
          },
          "metadata": {},
          "execution_count": 41
        }
      ],
      "source": [
        "# lets see how the coupon type acceptance rate compares to the overall\n",
        "# create a total count of rows by coupon type\n",
        "data_grp_slice_total = data_grp_slice.groupby('Coupon_Type')['Count'].sum().reset_index()\n",
        "\n",
        "# do a left join with data_grp_slice used to create barchart of coupon by acceptance type above\n",
        "data_grp_slice_pct = pd.merge(data_grp_slice, data_grp_slice_total, on='Coupon_Type', how='left')\n",
        "data_grp_slice_pct.rename(columns = {'Count_x':'Count', 'Count_y':'Total_Count'}, inplace = True)\n",
        "data_grp_slice_pct['Acceptance_Pct'] = round(data_grp_slice_pct['Count']/data_grp_slice_pct['Total_Count']*100,1)\n",
        "\n",
        "#data_grp_slice_pct['Acceptance_Pct'] = round(data_grp_slice_pct['Count']/total*100,1)\n",
        "data_grp_slice_pct = data_grp_slice_pct[data_grp_slice_pct['Accepted'] == 'Accepted']\n",
        "data_grp_slice_pct\n"
      ]
    },
    {
      "cell_type": "code",
      "execution_count": 56,
      "metadata": {
        "colab": {
          "base_uri": "https://localhost:8080/",
          "height": 614
        },
        "id": "fcqVKaq1ii-D",
        "outputId": "c69a4398-f183-4ae0-b743-7e72cda5af0f"
      },
      "outputs": [
        {
          "output_type": "display_data",
          "data": {
            "text/plain": [
              "<Figure size 640x480 with 1 Axes>"
            ],
            "image/png": "[encoded data removed]"
          },
          "metadata": {}
        }
      ],
      "source": [
        "chart = sns.barplot(data=data_grp_slice_pct, x='Coupon_Type', y='Acceptance_Pct',errorbar=None)\n",
        "\n",
        "#rotating x-axes values for better viz\n",
        "plt.xticks(rotation = 'vertical')\n",
        "\n",
        "#labeling\n",
        "plt.title('Coupon Acceptance Percentage Within A Type')\n",
        "plt.xlabel(f'Coupon Type')\n",
        "plt.ylabel(f'Acceptance Percent')\n",
        "for i in chart.containers:\n",
        "    chart.bar_label(i,)\n",
        "plt.axhline(y=accepted/total*100, color='black')\n",
        "plt.text(2, 2+(accepted/total*100), f\"Overall Acceptance Rate: {accepted/total*100:.1f}\", ha=\"center\", va=\"center\")\n",
        "# use for final report. Uncomment if you want to regen\n",
        "plt.savefig('accept_pct_type.png', format='png')\n",
        "plt.show()"
      ]
    },
    {
      "cell_type": "markdown",
      "metadata": {
        "id": "REZIaoL8pgGs"
      },
      "source": [
        "The above chart shows you **which type of coupon is outperforming and underperforming** the overall average.\n",
        "For example, **'carry out & takeaway' at 73.5% acceptance** is better than the overall average of 56.8% and far more accepted than bar coupons at 41%.\n",
        "\n",
        "This relative difference makes intuitive sense as it seems someone is more likely to decide to grab some 'carry out' food and keep going to their destination, while many people may be wary of suddenly deciding to drink alcohol while currently driving to another destination.\n",
        "\n",
        "Generally, the above **chart can be used to experiment further with the mix of coupon types offered**. For example, offer more 'carry out & takeaway' coupons in the next campaign. However, deeply understanding the customer base traits is probably important to do prior to making a coupon type decision."
      ]
    },
    {
      "cell_type": "code",
      "execution_count": 42,
      "metadata": {
        "id": "ZqfWZFI9ii-D"
      },
      "outputs": [],
      "source": []
    },
    {
      "cell_type": "code",
      "execution_count": 42,
      "metadata": {
        "id": "zYgeZhIIii-H"
      },
      "outputs": [],
      "source": []
    },
    {
      "cell_type": "markdown",
      "metadata": {
        "id": "eBKpz7quii-H"
      },
      "source": [
        "**Investigating the Bar Coupons**\n",
        "\n",
        "Now, we will lead you through an exploration of just the bar related coupons.  \n",
        "\n",
        "1. Create a new `DataFrame` that contains just the bar coupons.\n"
      ]
    },
    {
      "cell_type": "code",
      "execution_count": 43,
      "metadata": {
        "colab": {
          "base_uri": "https://localhost:8080/",
          "height": 308
        },
        "id": "XEne-hmwii-H",
        "outputId": "f5f3b7f3-4b00-4de1-f504-4c65a0d1632a"
      },
      "outputs": [
        {
          "output_type": "execute_result",
          "data": {
            "text/plain": [
              "           destination  passanger weather  temperature  time coupon  \\\n",
              "12241  No Urgent Place  Friend(s)   Sunny           55  10PM    Bar   \n",
              "10933  No Urgent Place      Alone   Rainy           55  10AM    Bar   \n",
              "9238              Home    Partner   Sunny           55  10PM    Bar   \n",
              "6765              Home    Partner   Rainy           55  10PM    Bar   \n",
              "11016  No Urgent Place  Friend(s)   Sunny           55  10PM    Bar   \n",
              "\n",
              "      expiration  gender     age    maritalStatus  ...  CoffeeHouse CarryAway  \\\n",
              "12241         2h    Male  50plus  Married partner  ...          1~3       4~8   \n",
              "10933         1d    Male      31  Married partner  ...        never     less1   \n",
              "9238          1d    Male  50plus  Married partner  ...        never       1~3   \n",
              "6765          1d  Female      31  Married partner  ...        less1       gt8   \n",
              "11016         2h  Female      26           Single  ...        never       1~3   \n",
              "\n",
              "      RestaurantLessThan20 Restaurant20To50 toCoupon_GEQ5min  \\\n",
              "12241                  1~3              1~3                1   \n",
              "10933                less1            less1                1   \n",
              "9238                   1~3            less1                1   \n",
              "6765                   4~8              1~3                1   \n",
              "11016                  4~8              1~3                1   \n",
              "\n",
              "      toCoupon_GEQ15min toCoupon_GEQ25min direction_same direction_opp  Y  \n",
              "12241                 1                 0              0             1  1  \n",
              "10933                 1                 0              0             1  0  \n",
              "9238                  1                 1              0             1  0  \n",
              "6765                  1                 0              0             1  0  \n",
              "11016                 1                 0              0             1  1  \n",
              "\n",
              "[5 rows x 26 columns]"
            ],
            "text/html": [
              "\n",
              "  <div id=\"df-2f91e37f-5ea8-4c3d-bfc4-fdb32df81e69\" class=\"colab-df-container\">\n",
              "    <div>\n",
              "<style scoped>\n",
              "    .dataframe tbody tr th:only-of-type {\n",
              "        vertical-align: middle;\n",
              "    }\n",
              "\n",
              "    .dataframe tbody tr th {\n",
              "        vertical-align: top;\n",
              "    }\n",
              "\n",
              "    .dataframe thead th {\n",
              "        text-align: right;\n",
              "    }\n",
              "</style>\n",
              "<table border=\"1\" class=\"dataframe\">\n",
              "  <thead>\n",
              "    <tr style=\"text-align: right;\">\n",
              "      <th></th>\n",
              "      <th>destination</th>\n",
              "      <th>passanger</th>\n",
              "      <th>weather</th>\n",
              "      <th>temperature</th>\n",
              "      <th>time</th>\n",
              "      <th>coupon</th>\n",
              "      <th>expiration</th>\n",
              "      <th>gender</th>\n",
              "      <th>age</th>\n",
              "      <th>maritalStatus</th>\n",
              "      <th>...</th>\n",
              "      <th>CoffeeHouse</th>\n",
              "      <th>CarryAway</th>\n",
              "      <th>RestaurantLessThan20</th>\n",
              "      <th>Restaurant20To50</th>\n",
              "      <th>toCoupon_GEQ5min</th>\n",
              "      <th>toCoupon_GEQ15min</th>\n",
              "      <th>toCoupon_GEQ25min</th>\n",
              "      <th>direction_same</th>\n",
              "      <th>direction_opp</th>\n",
              "      <th>Y</th>\n",
              "    </tr>\n",
              "  </thead>\n",
              "  <tbody>\n",
              "    <tr>\n",
              "      <th>12241</th>\n",
              "      <td>No Urgent Place</td>\n",
              "      <td>Friend(s)</td>\n",
              "      <td>Sunny</td>\n",
              "      <td>55</td>\n",
              "      <td>10PM</td>\n",
              "      <td>Bar</td>\n",
              "      <td>2h</td>\n",
              "      <td>Male</td>\n",
              "      <td>50plus</td>\n",
              "      <td>Married partner</td>\n",
              "      <td>...</td>\n",
              "      <td>1~3</td>\n",
              "      <td>4~8</td>\n",
              "      <td>1~3</td>\n",
              "      <td>1~3</td>\n",
              "      <td>1</td>\n",
              "      <td>1</td>\n",
              "      <td>0</td>\n",
              "      <td>0</td>\n",
              "      <td>1</td>\n",
              "      <td>1</td>\n",
              "    </tr>\n",
              "    <tr>\n",
              "      <th>10933</th>\n",
              "      <td>No Urgent Place</td>\n",
              "      <td>Alone</td>\n",
              "      <td>Rainy</td>\n",
              "      <td>55</td>\n",
              "      <td>10AM</td>\n",
              "      <td>Bar</td>\n",
              "      <td>1d</td>\n",
              "      <td>Male</td>\n",
              "      <td>31</td>\n",
              "      <td>Married partner</td>\n",
              "      <td>...</td>\n",
              "      <td>never</td>\n",
              "      <td>less1</td>\n",
              "      <td>less1</td>\n",
              "      <td>less1</td>\n",
              "      <td>1</td>\n",
              "      <td>1</td>\n",
              "      <td>0</td>\n",
              "      <td>0</td>\n",
              "      <td>1</td>\n",
              "      <td>0</td>\n",
              "    </tr>\n",
              "    <tr>\n",
              "      <th>9238</th>\n",
              "      <td>Home</td>\n",
              "      <td>Partner</td>\n",
              "      <td>Sunny</td>\n",
              "      <td>55</td>\n",
              "      <td>10PM</td>\n",
              "      <td>Bar</td>\n",
              "      <td>1d</td>\n",
              "      <td>Male</td>\n",
              "      <td>50plus</td>\n",
              "      <td>Married partner</td>\n",
              "      <td>...</td>\n",
              "      <td>never</td>\n",
              "      <td>1~3</td>\n",
              "      <td>1~3</td>\n",
              "      <td>less1</td>\n",
              "      <td>1</td>\n",
              "      <td>1</td>\n",
              "      <td>1</td>\n",
              "      <td>0</td>\n",
              "      <td>1</td>\n",
              "      <td>0</td>\n",
              "    </tr>\n",
              "    <tr>\n",
              "      <th>6765</th>\n",
              "      <td>Home</td>\n",
              "      <td>Partner</td>\n",
              "      <td>Rainy</td>\n",
              "      <td>55</td>\n",
              "      <td>10PM</td>\n",
              "      <td>Bar</td>\n",
              "      <td>1d</td>\n",
              "      <td>Female</td>\n",
              "      <td>31</td>\n",
              "      <td>Married partner</td>\n",
              "      <td>...</td>\n",
              "      <td>less1</td>\n",
              "      <td>gt8</td>\n",
              "      <td>4~8</td>\n",
              "      <td>1~3</td>\n",
              "      <td>1</td>\n",
              "      <td>1</td>\n",
              "      <td>0</td>\n",
              "      <td>0</td>\n",
              "      <td>1</td>\n",
              "      <td>0</td>\n",
              "    </tr>\n",
              "    <tr>\n",
              "      <th>11016</th>\n",
              "      <td>No Urgent Place</td>\n",
              "      <td>Friend(s)</td>\n",
              "      <td>Sunny</td>\n",
              "      <td>55</td>\n",
              "      <td>10PM</td>\n",
              "      <td>Bar</td>\n",
              "      <td>2h</td>\n",
              "      <td>Female</td>\n",
              "      <td>26</td>\n",
              "      <td>Single</td>\n",
              "      <td>...</td>\n",
              "      <td>never</td>\n",
              "      <td>1~3</td>\n",
              "      <td>4~8</td>\n",
              "      <td>1~3</td>\n",
              "      <td>1</td>\n",
              "      <td>1</td>\n",
              "      <td>0</td>\n",
              "      <td>0</td>\n",
              "      <td>1</td>\n",
              "      <td>1</td>\n",
              "    </tr>\n",
              "  </tbody>\n",
              "</table>\n",
              "<p>5 rows × 26 columns</p>\n",
              "</div>\n",
              "    <div class=\"colab-df-buttons\">\n",
              "\n",
              "  <div class=\"colab-df-container\">\n",
              "    <button class=\"colab-df-convert\" onclick=\"convertToInteractive('df-2f91e37f-5ea8-4c3d-bfc4-fdb32df81e69')\"\n",
              "            title=\"Convert this dataframe to an interactive table.\"\n",
              "            style=\"display:none;\">\n",
              "\n",
              "  <svg xmlns=\"http://www.w3.org/2000/svg\" height=\"24px\" viewBox=\"0 -960 960 960\">\n",
              "    <path d=\"M120-120v-720h720v720H120Zm60-500h600v-160H180v160Zm220 220h160v-160H400v160Zm0 220h160v-160H400v160ZM180-400h160v-160H180v160Zm440 0h160v-160H620v160ZM180-180h160v-160H180v160Zm440 0h160v-160H620v160Z\"/>\n",
              "  </svg>\n",
              "    </button>\n",
              "\n",
              "  <style>\n",
              "    .colab-df-container {\n",
              "      display:flex;\n",
              "      gap: 12px;\n",
              "    }\n",
              "\n",
              "    .colab-df-convert {\n",
              "      background-color: #E8F0FE;\n",
              "      border: none;\n",
              "      border-radius: 50%;\n",
              "      cursor: pointer;\n",
              "      display: none;\n",
              "      fill: #1967D2;\n",
              "      height: 32px;\n",
              "      padding: 0 0 0 0;\n",
              "      width: 32px;\n",
              "    }\n",
              "\n",
              "    .colab-df-convert:hover {\n",
              "      background-color: #E2EBFA;\n",
              "      box-shadow: 0px 1px 2px rgba(60, 64, 67, 0.3), 0px 1px 3px 1px rgba(60, 64, 67, 0.15);\n",
              "      fill: #174EA6;\n",
              "    }\n",
              "\n",
              "    .colab-df-buttons div {\n",
              "      margin-bottom: 4px;\n",
              "    }\n",
              "\n",
              "    [theme=dark] .colab-df-convert {\n",
              "      background-color: #3B4455;\n",
              "      fill: #D2E3FC;\n",
              "    }\n",
              "\n",
              "    [theme=dark] .colab-df-convert:hover {\n",
              "      background-color: #434B5C;\n",
              "      box-shadow: 0px 1px 3px 1px rgba(0, 0, 0, 0.15);\n",
              "      filter: drop-shadow(0px 1px 2px rgba(0, 0, 0, 0.3));\n",
              "      fill: #FFFFFF;\n",
              "    }\n",
              "  </style>\n",
              "\n",
              "    <script>\n",
              "      const buttonEl =\n",
              "        document.querySelector('#df-2f91e37f-5ea8-4c3d-bfc4-fdb32df81e69 button.colab-df-convert');\n",
              "      buttonEl.style.display =\n",
              "        google.colab.kernel.accessAllowed ? 'block' : 'none';\n",
              "\n",
              "      async function convertToInteractive(key) {\n",
              "        const element = document.querySelector('#df-2f91e37f-5ea8-4c3d-bfc4-fdb32df81e69');\n",
              "        const dataTable =\n",
              "          await google.colab.kernel.invokeFunction('convertToInteractive',\n",
              "                                                    [key], {});\n",
              "        if (!dataTable) return;\n",
              "\n",
              "        const docLinkHtml = 'Like what you see? Visit the ' +\n",
              "          '<a target=\"_blank\" href=https://colab.research.google.com/notebooks/data_table.ipynb>data table notebook</a>'\n",
              "          + ' to learn more about interactive tables.';\n",
              "        element.innerHTML = '';\n",
              "        dataTable['output_type'] = 'display_data';\n",
              "        await google.colab.output.renderOutput(dataTable, element);\n",
              "        const docLink = document.createElement('div');\n",
              "        docLink.innerHTML = docLinkHtml;\n",
              "        element.appendChild(docLink);\n",
              "      }\n",
              "    </script>\n",
              "  </div>\n",
              "\n",
              "\n",
              "<div id=\"df-0d1ca538-8887-4816-9f8f-3cb488b15473\">\n",
              "  <button class=\"colab-df-quickchart\" onclick=\"quickchart('df-0d1ca538-8887-4816-9f8f-3cb488b15473')\"\n",
              "            title=\"Suggest charts\"\n",
              "            style=\"display:none;\">\n",
              "\n",
              "<svg xmlns=\"http://www.w3.org/2000/svg\" height=\"24px\"viewBox=\"0 0 24 24\"\n",
              "     width=\"24px\">\n",
              "    <g>\n",
              "        <path d=\"M19 3H5c-1.1 0-2 .9-2 2v14c0 1.1.9 2 2 2h14c1.1 0 2-.9 2-2V5c0-1.1-.9-2-2-2zM9 17H7v-7h2v7zm4 0h-2V7h2v10zm4 0h-2v-4h2v4z\"/>\n",
              "    </g>\n",
              "</svg>\n",
              "  </button>\n",
              "\n",
              "<style>\n",
              "  .colab-df-quickchart {\n",
              "      --bg-color: #E8F0FE;\n",
              "      --fill-color: #1967D2;\n",
              "      --hover-bg-color: #E2EBFA;\n",
              "      --hover-fill-color: #174EA6;\n",
              "      --disabled-fill-color: #AAA;\n",
              "      --disabled-bg-color: #DDD;\n",
              "  }\n",
              "\n",
              "  [theme=dark] .colab-df-quickchart {\n",
              "      --bg-color: #3B4455;\n",
              "      --fill-color: #D2E3FC;\n",
              "      --hover-bg-color: #434B5C;\n",
              "      --hover-fill-color: #FFFFFF;\n",
              "      --disabled-bg-color: #3B4455;\n",
              "      --disabled-fill-color: #666;\n",
              "  }\n",
              "\n",
              "  .colab-df-quickchart {\n",
              "    background-color: var(--bg-color);\n",
              "    border: none;\n",
              "    border-radius: 50%;\n",
              "    cursor: pointer;\n",
              "    display: none;\n",
              "    fill: var(--fill-color);\n",
              "    height: 32px;\n",
              "    padding: 0;\n",
              "    width: 32px;\n",
              "  }\n",
              "\n",
              "  .colab-df-quickchart:hover {\n",
              "    background-color: var(--hover-bg-color);\n",
              "    box-shadow: 0 1px 2px rgba(60, 64, 67, 0.3), 0 1px 3px 1px rgba(60, 64, 67, 0.15);\n",
              "    fill: var(--button-hover-fill-color);\n",
              "  }\n",
              "\n",
              "  .colab-df-quickchart-complete:disabled,\n",
              "  .colab-df-quickchart-complete:disabled:hover {\n",
              "    background-color: var(--disabled-bg-color);\n",
              "    fill: var(--disabled-fill-color);\n",
              "    box-shadow: none;\n",
              "  }\n",
              "\n",
              "  .colab-df-spinner {\n",
              "    border: 2px solid var(--fill-color);\n",
              "    border-color: transparent;\n",
              "    border-bottom-color: var(--fill-color);\n",
              "    animation:\n",
              "      spin 1s steps(1) infinite;\n",
              "  }\n",
              "\n",
              "  @keyframes spin {\n",
              "    0% {\n",
              "      border-color: transparent;\n",
              "      border-bottom-color: var(--fill-color);\n",
              "      border-left-color: var(--fill-color);\n",
              "    }\n",
              "    20% {\n",
              "      border-color: transparent;\n",
              "      border-left-color: var(--fill-color);\n",
              "      border-top-color: var(--fill-color);\n",
              "    }\n",
              "    30% {\n",
              "      border-color: transparent;\n",
              "      border-left-color: var(--fill-color);\n",
              "      border-top-color: var(--fill-color);\n",
              "      border-right-color: var(--fill-color);\n",
              "    }\n",
              "    40% {\n",
              "      border-color: transparent;\n",
              "      border-right-color: var(--fill-color);\n",
              "      border-top-color: var(--fill-color);\n",
              "    }\n",
              "    60% {\n",
              "      border-color: transparent;\n",
              "      border-right-color: var(--fill-color);\n",
              "    }\n",
              "    80% {\n",
              "      border-color: transparent;\n",
              "      border-right-color: var(--fill-color);\n",
              "      border-bottom-color: var(--fill-color);\n",
              "    }\n",
              "    90% {\n",
              "      border-color: transparent;\n",
              "      border-bottom-color: var(--fill-color);\n",
              "    }\n",
              "  }\n",
              "</style>\n",
              "\n",
              "  <script>\n",
              "    async function quickchart(key) {\n",
              "      const quickchartButtonEl =\n",
              "        document.querySelector('#' + key + ' button');\n",
              "      quickchartButtonEl.disabled = true;  // To prevent multiple clicks.\n",
              "      quickchartButtonEl.classList.add('colab-df-spinner');\n",
              "      try {\n",
              "        const charts = await google.colab.kernel.invokeFunction(\n",
              "            'suggestCharts', [key], {});\n",
              "      } catch (error) {\n",
              "        console.error('Error during call to suggestCharts:', error);\n",
              "      }\n",
              "      quickchartButtonEl.classList.remove('colab-df-spinner');\n",
              "      quickchartButtonEl.classList.add('colab-df-quickchart-complete');\n",
              "    }\n",
              "    (() => {\n",
              "      let quickchartButtonEl =\n",
              "        document.querySelector('#df-0d1ca538-8887-4816-9f8f-3cb488b15473 button');\n",
              "      quickchartButtonEl.style.display =\n",
              "        google.colab.kernel.accessAllowed ? 'block' : 'none';\n",
              "    })();\n",
              "  </script>\n",
              "</div>\n",
              "    </div>\n",
              "  </div>\n"
            ]
          },
          "metadata": {},
          "execution_count": 43
        }
      ],
      "source": [
        "data_bar = data[data['coupon'] == 'Bar']\n",
        "data_bar.sample(5)"
      ]
    },
    {
      "cell_type": "markdown",
      "metadata": {
        "id": "6vDpH-_Iii-H"
      },
      "source": [
        "2. What proportion of bar coupons were accepted?\n"
      ]
    },
    {
      "cell_type": "code",
      "execution_count": 44,
      "metadata": {
        "colab": {
          "base_uri": "https://localhost:8080/"
        },
        "id": "T30RDUjaii-H",
        "outputId": "be9248a2-a4af-4b46-c3c4-a7a064e18d8f"
      },
      "outputs": [
        {
          "output_type": "stream",
          "name": "stdout",
          "text": [
            "Percent Bar Coupons accepted vs Bar Coupons Sent\n",
            "41.0\n",
            "Percent Bar Coupons accepted vs ALL Coupons Sent\n",
            "7.0\n"
          ]
        }
      ],
      "source": [
        "# see work above to create data_grp_slice - will use these data slices\n",
        "\n",
        "# within all bar coupons this many were accepted\n",
        "print('Percent Bar Coupons accepted vs Bar Coupons Sent')\n",
        "pct_bar_rel = data_grp_slice_pct[data_grp_slice_pct['Coupon_Type']=='Bar']['Acceptance_Pct']\n",
        "print(pct_bar_rel.values[0])\n",
        "\n",
        "\n",
        "\n",
        "# over all coupons sent, the proportion of bar coupons is\n",
        "print('Percent Bar Coupons accepted vs ALL Coupons Sent')\n",
        "pct_bar_all = round(data_grp_slice[(data_grp_slice['Accepted']=='Accepted') & (data_grp_slice['Coupon_Type'] == 'Bar') ]['Count']/total*100)\n",
        "print(f\"{pct_bar_all.values[0]}\")"
      ]
    },
    {
      "cell_type": "markdown",
      "metadata": {
        "id": "M0B_SNytuf5n"
      },
      "source": [
        "NOTE: Gave three statistics of acceptance because wording of question 2 was unclear to me - should it be a percentage of all bar coupons sent or of all coupons sent generally? I did both above.\n"
      ]
    },
    {
      "cell_type": "code",
      "source": [
        "#  Bar coupons sent vs all coupons sent\n",
        "print('Percent Bar Coupons Sent vs ALL Coupons Sent')\n",
        "pct_bar_sent = round(data_grp_slice_pct[(data_grp_slice_pct['Coupon_Type'] == 'Bar') ]['Total_Count']/total*100)\n",
        "print(f\"{pct_bar_sent.values[0]}\")"
      ],
      "metadata": {
        "colab": {
          "base_uri": "https://localhost:8080/"
        },
        "id": "YJGKvWNYO04a",
        "outputId": "41d1d240-5054-4c53-9a38-5eea5dcb1a21"
      },
      "execution_count": 45,
      "outputs": [
        {
          "output_type": "stream",
          "name": "stdout",
          "text": [
            "Percent Bar Coupons Sent vs ALL Coupons Sent\n",
            "16.0\n"
          ]
        }
      ]
    },
    {
      "cell_type": "markdown",
      "source": [
        "Since I calculated both within the bar type and also overall, I also shared percent of coupons sent that were the bar type to give a frame of reference for the total number of bar coupons sent.\n",
        "\n",
        "\n",
        "Now that we have the acceptance rate of this type, let's drill down into it using other traits of these customers.\n"
      ],
      "metadata": {
        "id": "SaaZsDD8PDbh"
      }
    },
    {
      "cell_type": "markdown",
      "metadata": {
        "id": "oDPubaN5ii-H"
      },
      "source": [
        "3. Compare the acceptance rate between those who went to a bar 3 or fewer times a month to those who went more.\n"
      ]
    },
    {
      "cell_type": "code",
      "execution_count": 57,
      "metadata": {
        "colab": {
          "base_uri": "https://localhost:8080/",
          "height": 559
        },
        "id": "orRuGqLLii-H",
        "outputId": "23dbd14e-4540-4c97-bd38-e8affd0e877d"
      },
      "outputs": [
        {
          "output_type": "stream",
          "name": "stdout",
          "text": [
            "The relative acceptance rate of those who went to a bar 3 or fewer times a month  VERSUS those who went more often:\n",
            "37.1 vs 76.9\n",
            "---\n",
            "The total number of those who went to a bar 3 or fewer times a month  VERSUS those who went more often:\n",
            "666 vs 153\n"
          ]
        },
        {
          "output_type": "display_data",
          "data": {
            "text/plain": [
              "<Figure size 640x480 with 1 Axes>"
            ],
            "image/png": "[encoded data removed]"
          },
          "metadata": {}
        }
      ],
      "source": [
        "data_bar2 = None\n",
        "from os import RTLD_NOW\n",
        "from re import X\n",
        "# from earlier analysis of values in this column\n",
        "#never    5197\n",
        "#less1    3482\n",
        "#1~3      2473\n",
        "#4~8      1076]\n",
        "#gt8       349\n",
        "\n",
        "# Note the awkward text-based way the data was stored, makes numerical queries require more work\n",
        "# create lists of each criteria and use the .isin() to match them to the data in the Bar categorical column\n",
        "less_list = ['less1', '1~3', 'never']\n",
        "more_list = ['4~8', 'gt8']\n",
        "\n",
        "# now gather the data to answer the question\n",
        "data_bar_less_accepted = data_bar[(data_bar['Bar'].isin(less_list)) & (data_bar['Y']==1)]\n",
        "data_bar_less_all = data_bar[(data_bar['Bar'].isin(less_list))]\n",
        "data_bar_more_accepted = data_bar[data_bar['Bar'].isin(more_list) & (data_bar['Y']==1)]\n",
        "data_bar_more_all = data_bar[data_bar['Bar'].isin(more_list)]\n",
        "\n",
        "print('The relative acceptance rate of those who went to a bar 3 or fewer times a month  VERSUS those who went more often:')\n",
        "print(f\"{round(data_bar_less_accepted['Y'].count()/data_bar_less_all['Y'].count()*100,1)} vs {round(data_bar_more_accepted['Y'].count()/data_bar_more_all['Y'].count()*100,1)}\")\n",
        "print('---')\n",
        "print('The total number of those who went to a bar 3 or fewer times a month  VERSUS those who went more often:')\n",
        "print(f\"{round(data_bar_less_accepted['Y'].count(),1)} vs {round(data_bar_more_accepted['Y'].count(),1)}\")\n",
        "\n",
        "# also to get a proper sort order on a supporting chart use pd.Categorical\n",
        "# Add this new categorical field to the original data frame - not  the slice\n",
        "data['Bar Visits'] = pd.Categorical(data['Bar'],['never','less1','1~3','4~8','gt8','Unknown'])\n",
        "\n",
        "# Reslice the data with this new column included\n",
        "data_bar2 = data[data['coupon'] == 'Bar']\n",
        "\n",
        "# Create an ordered chart to illustrate the main point\n",
        "chart = sns.histplot(data=data_bar2[['Y','Bar Visits']],x='Bar Visits', hue='Y')\n",
        "chart.set(title='Drivers Who Visit Bars')\n",
        "chart.legend(title=\"Offer Status\", labels=[\"Accepted\", \"NOT Accepted\"])\n",
        "chart.axvline(x = 2.5, ymin = 0, ymax = 1, color = 'black')\n",
        "chart.text(.8, 500, \"3 or Fewer Visits\")\n",
        "chart.text(2.75, 500, \"4 or More Visits\")\n",
        "chart.text(4.55, 500, \"Unknown\")\n",
        "chart.axvline(x = 4.5, ymin = 0, ymax = 1, color = 'black')\n",
        "\n",
        "# save for final report. uncomment if you want to regen\n",
        "plt.savefig('bar_visits.png', format='png')\n",
        "plt.show()\n",
        "\n"
      ]
    },
    {
      "cell_type": "markdown",
      "source": [
        "So this result may indicate that those that go to a bar very often are incentivized further by coupons. But note that there are only 153 of these frequent bar visitors.\n",
        "\n",
        "One business issue: Giving coupons to someone already going frequently may degrade overall profit margins."
      ],
      "metadata": {
        "id": "1V0bF453dpWW"
      }
    },
    {
      "cell_type": "markdown",
      "metadata": {
        "id": "gkWIhxcrii-H"
      },
      "source": [
        "4. Compare the acceptance rate between drivers who go to a bar more than once a month and are over the age of 25 to the all others.  Is there a difference?\n"
      ]
    },
    {
      "cell_type": "code",
      "execution_count": 58,
      "metadata": {
        "colab": {
          "base_uri": "https://localhost:8080/",
          "height": 979
        },
        "id": "Nnno9Aw_ii-I",
        "outputId": "89f3f48e-56c3-40a2-8a82-9a3a3b6d4923"
      },
      "outputs": [
        {
          "output_type": "stream",
          "name": "stdout",
          "text": [
            "Those that go to bar at least once a month and are over 25 accept at this rate: : 69.5% -> 292 of 420\n",
            "Those that go to bar less than once a month or are less than or equal to 25 accept at this rate: : 33.5% -> 535 of 1597\n",
            "Be aware that data set contains drivers for which we have no data about their bar frequency. This group accepts at a rate of: : 38.1% -> 8 of 21\n"
          ]
        },
        {
          "output_type": "display_data",
          "data": {
            "text/plain": [
              "<Figure size 640x480 with 1 Axes>"
            ],
            "image/png": "[encoded data removed]"
          },
          "metadata": {}
        },
        {
          "output_type": "display_data",
          "data": {
            "text/plain": [
              "<Figure size 640x480 with 1 Axes>"
            ],
            "image/png": "[encoded data removed]"
          },
          "metadata": {}
        }
      ],
      "source": [
        "# from earlier analysis of column values\n",
        "#age\n",
        "#21         2653\n",
        "#26         2559\n",
        "#31         2039\n",
        "#50plus     1788\n",
        "#36         1319\n",
        "#41         1093\n",
        "#46          686\n",
        "#below21     547\n",
        "# again note the use of text like 'below21' prevents numerical querying.\n",
        "# Use the isin() list technique to compensate\n",
        "\n",
        "# NOTE: Also the data set does not breakout 'more than once a month' to a bar exactly\n",
        "# use greater than equal to as proxy. In other words, analyzing 'Once a month or more'\n",
        "\n",
        "# NOTE: The question doesn't clarify 'acceptance rate'. Does it mean acceptance rate of bar coupons or any coupon?\n",
        "# This analysis will assume 'acceptance rate of bar coupons'.\n",
        "\n",
        "bar_ge1_list = ['1~3','4~8', 'gt8']\n",
        "age_gt25_list = ['26', '31','36', '41', '46', '50plus']\n",
        "data_bar_ge1_and_gt25 = data_bar[(data_bar['Bar'].isin(bar_ge1_list)) & (data_bar['age'].isin(age_gt25_list))]\n",
        "\n",
        "# count how many found in this grouping\n",
        "in_total =data_bar_ge1_and_gt25['Y'].count()\n",
        "\n",
        "# count how many of these accepted the coupon\n",
        "in_accepted_count = data_bar_ge1_and_gt25[data_bar_ge1_and_gt25['Y']==1]['Y'].count()\n",
        "\n",
        "# get the percentage accepted = the number of accepted in that group divided by the total number in that group\n",
        "bar_ge1_and_gt25 = in_accepted_count/in_total\n",
        "print(f\"Those that go to bar at least once a month and are over 25 accept at this rate: \\\n",
        ": {round(bar_ge1_and_gt25*100,1)}% -> {in_accepted_count} of {in_total}\")\n",
        "\n",
        "# Repeat same solution pattern from above BUT this time get the opposite or negation set of the above\n",
        "# In boolean logic, the negation of “A and B\"“not(A) OR not(B)”\n",
        "# So we are looking for those that go to bar less than once a month or are less than or equal to 25 accept at this rate\n",
        "# Use the ~ character in front of dataframe when using .isin() to get NOT isin result\n",
        "data_bar_lt1_or_le25 = data_bar[(~data_bar['Bar'].isin(bar_ge1_list)) | (~data_bar['age'].isin(age_gt25_list))]\n",
        "\n",
        "out_total =data_bar_lt1_or_le25['Y'].count()\n",
        "out_accepted_count = data_bar_lt1_or_le25[data_bar_lt1_or_le25['Y']==1]['Y'].count()\n",
        "bar_lt1_or_le25 = out_accepted_count/out_total\n",
        "print(f\"Those that go to bar less than once a month or are less than or equal to 25 accept at this rate: \\\n",
        ": {round(bar_lt1_or_le25*100,1)}% -> {out_accepted_count} of {out_total}\")\n",
        "\n",
        "# Finally for completeness, a reminder that some 'Bar' traits data is Unknown.\n",
        "# How often do the Unknown records accept?\n",
        "bar_unknown = data_bar[data_bar['Bar'] == 'Unknown']\n",
        "bar_unknown_total =bar_unknown['Y'].count()\n",
        "bar_unknown_accept = bar_unknown[bar_unknown['Y'] == 1]['Y'].count()\n",
        "bar_uknown_accept_pct = round(bar_unknown_accept/bar_unknown_total*100,1)\n",
        "print(f\"Be aware that data set contains drivers for which we have no data about their bar frequency. This group accepts at a rate of: \\\n",
        ": {bar_uknown_accept_pct}% -> {bar_unknown_accept} of {bar_unknown_total}\")\n",
        "\n",
        "# for illustration support, show histogram of drivers who visit bars 1 or more times grouped by age\n",
        "\n",
        "sorted_age_list = ['below21','21','26', '31','36', '41', '46', '50plus']\n",
        "data['Driver Age'] = pd.Categorical(data['age'], sorted_age_list)\n",
        "data_bar_ge1 = data[(data['coupon'] == 'Bar') & (data['Bar'].isin(bar_ge1_list))]\n",
        "# Create an ordered chart to illustrate the main point\n",
        "chart = sns.histplot(data=data_bar_ge1[['Y','Driver Age']],x='Driver Age', hue='Y')\n",
        "chart.legend(title=\"Offer Status\", labels=[\"Accepted\", \"NOT Accepted\"])\n",
        "chart.set(title='Drivers Who Visit Bars Once A Month Or More')\n",
        "chart.axvline(x = 1.5, ymin = 0, ymax = 1, color = 'black')\n",
        "chart.text(1.54, 132, \"Over 25 -->\")\n",
        "\n",
        "# save for final report. uncomment if you want to regen\n",
        "plt.savefig('bar_age.png', format='png')\n",
        "\n",
        "plt.show()\n",
        "\n",
        "# for illustration support, show histogram of drivers who visit bars less than once by age\n",
        "data_bar_lt1 = data[(data['coupon'] == 'Bar') & (~data['Bar'].isin(bar_ge1_list))]\n",
        "# Create an ordered chart to illustrate the main point\n",
        "chart2 = sns.histplot(data=data_bar_lt1[['Y','Driver Age']],x='Driver Age', hue='Y')\n",
        "chart2.legend(title=\"Offer Status\", labels=[\"Accepted\", \"NOT Accepted\"])\n",
        "chart2.set(title='Drivers Who Visit Bars Less Than Once A Month')\n",
        "plt.show()"
      ]
    },
    {
      "cell_type": "markdown",
      "metadata": {
        "id": "_v67H6vi7SOl"
      },
      "source": [
        "For the data we have that is clean/known, those that are over 25 and go to a bar once a month ACCEPT more than twice as often as others: **69.5 vs 33.5 is a significant difference.**\n",
        "We can possibly infer that periodic bar customers that are over 25 are highly positively incentivized by coupons.\n",
        "\n",
        "Looking at the two supporting charts gives a fuller picture of how age and bar visits affect the bar coupon acceptance rate. For drivers that visit a bar at least once a month, it suggest that the **21 to 31 segment and the 50plus segments might be the optimal group**. However, the sparse set of age data should provide caution in drawing strong conclusions.\n",
        "\n",
        "And once again, the goal is probably not high coupon acceptance, but instead total profit. **Giving coupons to people that are already coming may not increase overall profit. Therefore, may want to do analysis on visitors who currently come only once a month to see over time if a coupon can get them to come 2 or more times a month.** Currently, our data set doesn't break out visitors that come only once a month. Could use the group less than once a month as a proxy until more granular data could be collected.\n"
      ]
    },
    {
      "cell_type": "markdown",
      "metadata": {
        "id": "m33yuwA7ii-I"
      },
      "source": [
        "5. Use the same process to compare the acceptance rate between drivers who go to bars more than once a month and had passengers that were not a kid and had occupations other than farming, fishing, or forestry.\n"
      ]
    },
    {
      "cell_type": "code",
      "execution_count": 48,
      "metadata": {
        "colab": {
          "base_uri": "https://localhost:8080/"
        },
        "id": "RSkJrd_yCbHe",
        "outputId": "59d90154-18b7-44d3-e9f9-d20a38f0d574"
      },
      "outputs": [
        {
          "output_type": "stream",
          "name": "stdout",
          "text": [
            "For people that go to bar once a month or more, who are not driving kid passengers, and are not in the 'Farming, Fishing & Forestry' industry,\n",
            "They accept bar coupons at this rate: 71.3% -> 393 of 551\n",
            "---\n",
            "For people that DO NOT go to bar once a month or more OR who ARE driving kid passengers OR ARE in the 'Farming, Fishing & Forestry' industry,\n",
            "They accept bar coupons at this rate: 29.6% -> 434 of 1466\n"
          ]
        }
      ],
      "source": [
        "# Now let's query for other characteristics of drivers\n",
        "# Occupation fields to check\n",
        "excl_occupation = 'Farming Fishing & Forestry'\n",
        "# types of passengers\n",
        "not_a_kid_list = ['Alone','Friend(s)', 'Partner']\n",
        "# data_p5a is:\n",
        "# Drivers who go to bars more than once a month and had passengers that were not a kid and had occupations other than farming, fishing, or forestry\n",
        "data_p5a = data_bar[(data_bar['Bar'].isin(bar_ge1_list)) & (data_bar['passanger'].isin(not_a_kid_list)) & (data_bar['occupation'] != excl_occupation)]\n",
        "\n",
        "# Get their acceptance rate\n",
        "p5a_out_total =data_p5a['Y'].count()\n",
        "p5a_out_accepted_count = data_p5a[data_p5a['Y']==1]['Y'].count()\n",
        "p5a_accept_pct = round(p5a_out_accepted_count/p5a_out_total*100, 1)\n",
        "print(f\"For people that go to bar once a month or more, who are not driving kid passengers, and are not in the 'Farming, Fishing & Forestry' industry,\")\n",
        "print (f\"They accept bar coupons at this rate: {p5a_accept_pct}% -> {p5a_out_accepted_count} of {p5a_out_total}\")\n",
        "\n",
        "# Now get the negation set\n",
        "# People who DO NOT go to bar once a month or more OR who ARE driving kid passengers OR ARE in the 'Farming, Fishing & Forestry' industry,\n",
        "data_p5b = data_bar[(~data_bar['Bar'].isin(bar_ge1_list)) | (~data_bar['passanger'].isin(not_a_kid_list)) | (data_bar['occupation'] == excl_occupation)]\n",
        "\n",
        "# Get the negation set acceptance rate\n",
        "p5b_out_total =data_p5b['Y'].count()\n",
        "p5b_out_accepted_count = data_p5b[data_p5b['Y']==1]['Y'].count()\n",
        "p5b_accept_pct = round(p5b_out_accepted_count/p5b_out_total*100, 1)\n",
        "print('---')\n",
        "print(f\"For people that DO NOT go to bar once a month or more OR who ARE driving kid passengers OR ARE in the 'Farming, Fishing & Forestry' industry,\")\n",
        "print (f\"They accept bar coupons at this rate: {p5b_accept_pct}% -> {p5b_out_accepted_count} of {p5b_out_total}\")\n",
        "\n",
        "\n"
      ]
    },
    {
      "cell_type": "markdown",
      "source": [
        "The difference is significant. However, this particular narrow combination does not tell us too much necessarily. It would be interesting to see the acceptance rate without the industry criteria.\n",
        "\n",
        "**If kids are not in the car, it seems a reasonable hypothesis that you would be more likely to accept a coupon to go to a bar.** Let's look..."
      ],
      "metadata": {
        "id": "GFXA7HQJeQHY"
      }
    },
    {
      "cell_type": "code",
      "source": [
        "# bar chart of once a month bar visits grouped by passanger type\n",
        "# Create an ordered chart to illustrate the main point\n",
        "chart2 = sns.histplot(data=data_bar_ge1[['Y','passanger']],x='passanger', hue='Y')\n",
        "chart2.legend(title=\"Offer Status\", labels=[\"Accepted\", \"NOT Accepted\"])\n",
        "chart2.set(title='Drivers Who Visit Bars At Least Once A Month By Passenger Type')\n",
        "\n",
        "# save for final report. uncomment if you want to regen\n",
        "plt.savefig('bar_passengers.png', format='png')\n",
        "plt.show()"
      ],
      "metadata": {
        "colab": {
          "base_uri": "https://localhost:8080/",
          "height": 472
        },
        "id": "RG_o3ohWH2Ou",
        "outputId": "831beabb-1bb2-4623-f0aa-2755fa780cbc"
      },
      "execution_count": 59,
      "outputs": [
        {
          "output_type": "display_data",
          "data": {
            "text/plain": [
              "<Figure size 640x480 with 1 Axes>"
            ],
            "image/png": "[encoded data removed]"
          },
          "metadata": {}
        }
      ]
    },
    {
      "cell_type": "markdown",
      "source": [
        "Supports the idea of focusing on drivers without kids as passengers.\n",
        "\n",
        "But also supports idea of not including those driving with their partner.\n",
        "\n",
        "Visually we can see that Friends as passengers has the highest acceptance ratio, but that the number of drivers that are alone is larger and with a relatively good acceptance ratio.\n"
      ],
      "metadata": {
        "id": "maZM1op1IT4a"
      }
    },
    {
      "cell_type": "markdown",
      "metadata": {
        "id": "ioDykIcFii-I"
      },
      "source": [
        "6. Compare the acceptance rates between those drivers who:\n",
        "\n",
        "- go to bars more than once a month, had passengers that were not a kid, and were not widowed *OR*\n",
        "- go to bars more than once a month and are under the age of 30 *OR*\n",
        "- go to cheap restaurants more than 4 times a month and income is less than 50K.\n",
        "\n"
      ]
    },
    {
      "cell_type": "code",
      "source": [
        "\n"
      ],
      "metadata": {
        "id": "gBQ6tnWYHjDg"
      },
      "execution_count": 49,
      "outputs": []
    },
    {
      "cell_type": "code",
      "execution_count": 50,
      "metadata": {
        "colab": {
          "base_uri": "https://localhost:8080/"
        },
        "id": "KyODpN_pii-I",
        "outputId": "7d87234d-61d5-498c-bbeb-65e336695c9f"
      },
      "outputs": [
        {
          "output_type": "stream",
          "name": "stdout",
          "text": [
            "Comparing the acceptance rates between those drivers who:\n",
            "1 - go to bars more than once a month, had passengers that were not a kid, and were not widowed OR\n",
            "2 - go to bars more than once a month and are under the age of 30 OR\n",
            "3 - go to cheap restaurants more than 4 times a month and income is less than 50K.\n",
            "---\n",
            "For people that meet the LOGICAL OR of the 3 criteria groups of this question:\n",
            "They accept coupons at this rate: 61.2% -> 444 of 725\n"
          ]
        }
      ],
      "source": [
        "# ASSUMPTION: This question still wants to analyze the bar type coupons, not coupons generally\n",
        "# ASSUMPTION BASED ON QUESTION WORDING: Asks for 3 Criteria groups to combine in a logical OR operation and then analyze that single resulting group\n",
        "\n",
        "# FIRST, Create 3 dataframes that each match a criteria\n",
        "\n",
        "# Criteria Group 1: go to bars more than once a month, had passengers that were not a kid, and were not widowed\n",
        "# marital status fields to check\n",
        "excl_marital_status = 'Widowed'\n",
        "# types of passengers\n",
        "not_a_kid_list = ['Alone','Friend(s)', 'Partner']\n",
        "\n",
        "# data_p6a1: subset meeting this criteria 1\n",
        "data_p6a1 = data_bar[(data_bar['Bar'].isin(bar_ge1_list)) & (data_bar['passanger'].isin(not_a_kid_list)) & (data_bar['maritalStatus'] != excl_marital_status)]\n",
        "\n",
        "# Criteria Group 2: go to bars more than once a month and are under the age of 30\n",
        "# age list\n",
        "incl_age_list = ['below21','21','26']\n",
        "# data_p6a2: subset meeting this criteria 2\n",
        "data_p6a2 = data_bar[(data_bar['Bar'].isin(bar_ge1_list)) & (data_bar['age'].isin(incl_age_list))]\n",
        "\n",
        "# Criteria Group 3: go to cheap restaurants more than 4 times a month and income is less than 50K.\n",
        "cheap_restaurant_visits_list = ['4~8','gt8']\n",
        "incl_income_list = ['$25000 - $37499','$12500 - $24999','$37500 - $49999']\n",
        "\n",
        "# data_p6a3: subset meeting this criteria 3\n",
        "# Note that NOT using frequency of visits to bars here\n",
        "data_p6a3 = data_bar[data_bar['RestaurantLessThan20'].isin(cheap_restaurant_visits_list) & (data_bar['income'].isin(incl_income_list))]\n",
        "\n",
        "\n",
        "# Ok So now have 3 dataframes meeting the 3 criteria\n",
        "# SECOND, Need to concatenate the rows of them and then drop duplicates to get our answer\n",
        "# data_p6b is the logical OR of the previous data sets\n",
        "data_p6b = pd.concat([data_p6a1, data_p6a2, data_p6a3], ignore_index=True)\n",
        "data_p6b.drop_duplicates(ignore_index = True, inplace = True)\n",
        "\n",
        "# find the acceptance rate of this combination\n",
        "p6b_total =data_p6b['Y'].count()\n",
        "p6b_accepted_count = data_p6b[data_p6b['Y']==1]['Y'].count()\n",
        "p6b_accept_pct = round(p6b_accepted_count/p6b_total*100, 1)\n",
        "print(\"Comparing the acceptance rates between those drivers who:\")\n",
        "print(\"1 - go to bars more than once a month, had passengers that were not a kid, and were not widowed OR\")\n",
        "print(\"2 - go to bars more than once a month and are under the age of 30 OR\")\n",
        "print(\"3 - go to cheap restaurants more than 4 times a month and income is less than 50K.\")\n",
        "print('---')\n",
        "print(f\"For people that meet the LOGICAL OR of the 3 criteria groups of this question:\")\n",
        "print (f\"They accept coupons at this rate: {p6b_accept_pct}% -> {p6b_accepted_count} of {p6b_total}\")\n"
      ]
    },
    {
      "cell_type": "markdown",
      "source": [
        "But let's look at the acceptance rate of each criteria group on its own. That might be more revealing about the nature of bar coupon acceptance."
      ],
      "metadata": {
        "id": "TBPFcjoSUSrv"
      }
    },
    {
      "cell_type": "code",
      "source": [
        "# Calculte acceptance for those just meetin criteria group 1\n",
        "p6a1_total =data_p6a1['Y'].count()\n",
        "p6a1_accepted_count = data_p6a1[data_p6a1['Y']==1]['Y'].count()\n",
        "p6a1_accept_pct = round(p6a1_accepted_count/p6a1_total*100, 1)\n",
        "print(\"Comparing the acceptance rates between those drivers who:\")\n",
        "print(\"1 - go to bars more than once a month, had passengers that were not a kid, and were not widowed\")\n",
        "print('---')\n",
        "print (f\"They accept coupons at this rate: {p6a1_accept_pct}% -> {p6a1_accepted_count} of {p6a1_total}\")"
      ],
      "metadata": {
        "colab": {
          "base_uri": "https://localhost:8080/"
        },
        "id": "TO_s-SuKZjH3",
        "outputId": "247fe6c9-4be1-4486-b17c-1a08304d66ed"
      },
      "execution_count": 51,
      "outputs": [
        {
          "output_type": "stream",
          "name": "stdout",
          "text": [
            "Comparing the acceptance rates between those drivers who:\n",
            "1 - go to bars more than once a month, had passengers that were not a kid, and were not widowed\n",
            "---\n",
            "They accept coupons at this rate: 71.3% -> 393 of 551\n"
          ]
        }
      ]
    },
    {
      "cell_type": "markdown",
      "source": [
        "This is a relatively high acceptance rate! If those in the dataset go to bar with moderate frequency and don't have kids in the car at the time of receiving the coupon, they may be more likely to go to the bar. But would need to look at other factors before concluding a causal relationship.\n",
        "\n",
        "For now, let's move to criteria group 2..."
      ],
      "metadata": {
        "id": "a5zNmIIrfH5d"
      }
    },
    {
      "cell_type": "code",
      "execution_count": 52,
      "metadata": {
        "colab": {
          "base_uri": "https://localhost:8080/"
        },
        "id": "uiUMYWjGDtPb",
        "outputId": "45845b4a-6102-4e06-fa40-01c3d5e32864"
      },
      "outputs": [
        {
          "output_type": "stream",
          "name": "stdout",
          "text": [
            "Comparing the acceptance rates between those drivers who:\n",
            "2 - go to bars more than once a month and are under the age of 30\n",
            "---\n",
            "They accept coupons at this rate: 72.2% -> 249 of 345\n"
          ]
        }
      ],
      "source": [
        "# Calculte acceptance for those just meeting criteria group 2\n",
        "p6a2_total =data_p6a2['Y'].count()\n",
        "p6a2_accepted_count = data_p6a2[data_p6a2['Y']==1]['Y'].count()\n",
        "p6a2_accept_pct = round(p6a2_accepted_count/p6a2_total*100, 1)\n",
        "print(\"Comparing the acceptance rates between those drivers who:\")\n",
        "print(\"2 - go to bars more than once a month and are under the age of 30\")\n",
        "print('---')\n",
        "print (f\"They accept coupons at this rate: {p6a2_accept_pct}% -> {p6a2_accepted_count} of {p6a2_total}\")"
      ]
    },
    {
      "cell_type": "markdown",
      "source": [
        "Another high acceptance rate! But an even smaller population proportion of the full data set. Again, worth investigating further and getting more age ranges in the next data set. As per an earlier chart commentary, perhaps including age 31 is worthwhile.\n",
        "\n",
        "For now, let's look at criteria group 3..."
      ],
      "metadata": {
        "id": "Tq5-maz-U2cV"
      }
    },
    {
      "cell_type": "code",
      "execution_count": 53,
      "metadata": {
        "colab": {
          "base_uri": "https://localhost:8080/"
        },
        "id": "s6gE2h_LENPt",
        "outputId": "729eac5e-3125-4759-a6d1-288732d66e81"
      },
      "outputs": [
        {
          "output_type": "stream",
          "name": "stdout",
          "text": [
            "Comparing the acceptance rates between those drivers who:\n",
            "3 - go to cheap restaurants more than 4 times a month and income is less than 50K.\n",
            "---\n",
            "They accept coupons at this rate: 45.8% -> 124 of 271\n"
          ]
        }
      ],
      "source": [
        "# Calculate acceptance for those just meeting criteria group 3\n",
        "p6a3_total =data_p6a3['Y'].count()\n",
        "p6a3_accepted_count = data_p6a3[data_p6a3['Y']==1]['Y'].count()\n",
        "p6a3_accept_pct = round(p6a3_accepted_count/p6a3_total*100, 1)\n",
        "print(\"Comparing the acceptance rates between those drivers who:\")\n",
        "print(\"3 - go to cheap restaurants more than 4 times a month and income is less than 50K.\")\n",
        "print('---')\n",
        "print (f\"They accept coupons at this rate: {p6a3_accept_pct}% -> {p6a3_accepted_count} of {p6a3_total}\")"
      ]
    },
    {
      "cell_type": "markdown",
      "source": [
        "This criteria is a very different slice of the data - a nice control check. Looking at other factors besides bar visit frequency, age, and passengers helps us see how significant and promising the previous acceptance rates are!"
      ],
      "metadata": {
        "id": "vckldk3Gffc2"
      }
    },
    {
      "cell_type": "markdown",
      "metadata": {
        "id": "MJxAg7ALii-I"
      },
      "source": [
        "7.  Based on these observations, what do you hypothesize about drivers who accepted the bar coupons?"
      ]
    },
    {
      "cell_type": "markdown",
      "source": [
        "Based on the above analysis above, I would hypothesize that those that frequent a bar periodically as long as they do not have kids in the car are highly likely to accept a bar coupon.\n",
        "\n",
        "From a marketing business perspective, it will be important to determine how to ascertain who will not have a kid in the car. That may not be an actionable insight.\n",
        "\n",
        "To strengthen the analysis, the following might be helpful:\n",
        "\n",
        "\n",
        "1.   For periodic bar visitors, find acceptance rate related to various occupations and marital status. Look for correlations.\n",
        "2.   Do a quick round of further analysis of other types of coupons to have a better idea if the bar coupon type is a strong relative segment to invest in.\n",
        "\n",
        "After this analysis, look at the overall size of the demographics correlated to high acceptance rate. Also, assess the ability to target them with marketing. Given the relatively high acceptance rate of 'Carry Out & Takeaway' and inexpensive restaurants, it might be more profitable overall to analyze that data to look for large and actionable marketing targets. But if the demographic with high acceptance of bar coupon types is large enough and able to be targeted, then it is likely a worthwhile investment to grow this segment.\n",
        "\n",
        "Lastly, I would try to get data on overall profitability of stores participating. Increasing the coupon acceptance rate of a segment already going frequently could have adverse effects on net profits.\n",
        "\n",
        "\n"
      ],
      "metadata": {
        "id": "JqOXEIRyfy8d"
      }
    },
    {
      "cell_type": "markdown",
      "metadata": {
        "id": "0Vq0xT-Hii-I"
      },
      "source": [
        "### Independent Investigation\n",
        "\n",
        "Using the bar coupon example as motivation, you are to explore one of the other coupon groups and try to determine the characteristics of passengers who accept the coupons.  "
      ]
    },
    {
      "cell_type": "markdown",
      "source": [
        "## To The Assignment Grading Team:\n",
        "\n",
        "\n",
        "\n",
        "*   I focused my extensive independent investigation efforts analyzing and illustrating more detail about the bar coupons throughout above.\n",
        "\n",
        "*   Also I did an analysis of acceptance by bar coupon type vs the overall average above. Repeated here for convenience\n",
        "\n",
        "I beleive these two points satisfy the goal of doing a full independent investigation\n",
        "\n",
        "\n",
        "\n"
      ],
      "metadata": {
        "id": "RwsgXU-5MOTT"
      }
    },
    {
      "cell_type": "code",
      "execution_count": 54,
      "metadata": {
        "colab": {
          "base_uri": "https://localhost:8080/",
          "height": 614
        },
        "id": "IZVqJfJmii-I",
        "outputId": "08841d24-cc0f-4208-f481-17c29e105060"
      },
      "outputs": [
        {
          "output_type": "display_data",
          "data": {
            "text/plain": [
              "<Figure size 640x480 with 1 Axes>"
            ],
            "image/png": "[encoded data removed]"
          },
          "metadata": {}
        }
      ],
      "source": [
        "chart = sns.barplot(data=data_grp_slice_pct, x='Coupon_Type', y='Acceptance_Pct',errorbar=None)\n",
        "\n",
        "#rotating x-axes values for better viz\n",
        "plt.xticks(rotation = 'vertical')\n",
        "#labeling\n",
        "plt.title('Coupon Acceptance Percentage Within A Type')\n",
        "plt.xlabel(f'Coupon Type')\n",
        "plt.ylabel(f'Acceptance Percent')\n",
        "for i in chart.containers:\n",
        "    chart.bar_label(i,)\n",
        "plt.axhline(y=accepted/total*100, color='black')\n",
        "plt.text(2, 2+(accepted/total*100), f\"Overall Acceptance Rate: {accepted/total*100:.1f}\", ha=\"center\", va=\"center\")\n",
        "plt.show()"
      ]
    }
  ],
  "metadata": {
    "colab": {
      "provenance": []
    },
    "kernelspec": {
      "display_name": "Python 3",
      "language": "python",
      "name": "python3"
    },
    "language_info": {
      "codemirror_mode": {
        "name": "ipython",
        "version": 3
      },
      "file_extension": ".py",
      "mimetype": "text/x-python",
      "name": "python",
      "nbconvert_exporter": "python",
      "pygments_lexer": "ipython3",
      "version": "3.8.8"
    }
  },
  "nbformat": 4,
  "nbformat_minor": 0
}